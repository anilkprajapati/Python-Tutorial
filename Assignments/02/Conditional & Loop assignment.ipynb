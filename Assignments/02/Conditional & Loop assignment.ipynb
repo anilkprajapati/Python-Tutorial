{
 "cells": [
  {
   "cell_type": "markdown",
   "id": "441d6493",
   "metadata": {},
   "source": [
    "# Conditional and Loop Assignment\n",
    "### Anil Kumar Prajapati"
   ]
  },
  {
   "cell_type": "markdown",
   "id": "1ff5aba8",
   "metadata": {},
   "source": [
    "# 1. Conditional assignment"
   ]
  },
  {
   "cell_type": "code",
   "execution_count": 1,
   "id": "060501cb",
   "metadata": {},
   "outputs": [],
   "source": [
    "# Q. W. A P. which takes one number from 0 to 9 from the user and prints\n",
    "# it in the word. And if the word is not from 0 to 9 then\n",
    "# it should print that number is outside of the range and program should\n",
    "# exit.\n",
    "\n",
    "# For exapmple:-\n",
    "# input = 1\n",
    "# output = one"
   ]
  },
  {
   "cell_type": "code",
   "execution_count": 139,
   "id": "75c32736",
   "metadata": {},
   "outputs": [
    {
     "name": "stdout",
     "output_type": "stream",
     "text": [
      "Please enter an Integer from 0 to 9: 2\n",
      "two\n"
     ]
    }
   ],
   "source": [
    "try:\n",
    "    a=int(input(\"Please enter an Integer from 0 to 9: \"))\n",
    "    if a==1:\n",
    "        print(\"one\")\n",
    "    elif a==2:\n",
    "        print(\"two\")\n",
    "    elif a==3:\n",
    "        print(\"three\")\n",
    "    elif a==4:\n",
    "        print(\"four\")\n",
    "    elif a==5:\n",
    "        print(\"five\")\n",
    "    elif a==6:\n",
    "        print(\"six\")\n",
    "    elif a==7:\n",
    "        print(\"seven\")\n",
    "    elif a==8:\n",
    "        print(\"eight\")\n",
    "    elif a==9:\n",
    "        print(\"nine\")\n",
    "    else:\n",
    "        print(\"Out of range\")\n",
    "except:\n",
    "    print(\"Please enter a proper number\")"
   ]
  },
  {
   "cell_type": "code",
   "execution_count": null,
   "id": "775fe3eb",
   "metadata": {},
   "outputs": [],
   "source": []
  },
  {
   "cell_type": "code",
   "execution_count": null,
   "id": "1dddc2af",
   "metadata": {},
   "outputs": [],
   "source": []
  },
  {
   "cell_type": "code",
   "execution_count": 2,
   "id": "64819948",
   "metadata": {},
   "outputs": [],
   "source": [
    "# Q. W. A P. to implement calculator but the operation to be done and two\n",
    "# numbers will be taken as input from user:-\n",
    "# Operation console should show below:-\n",
    "#  Please select any one operation from below:-\n",
    "#  * To add enter 1\n",
    "#  * to subtract enter 2\n",
    "#  * To multiply enter 3\n",
    "#  * To divide enter 4\n",
    "#  * To divide and find quotient enter 5\n",
    "#  * To divide and find remainder enter 6\n",
    "#  * To divide and find num1 to the power of num2 enter 7\n",
    "#  * To Come out of the program enter 8\n"
   ]
  },
  {
   "cell_type": "code",
   "execution_count": 142,
   "id": "a065ddd5",
   "metadata": {},
   "outputs": [
    {
     "name": "stdout",
     "output_type": "stream",
     "text": [
      "\n",
      "Welcome to calculator\n",
      "To add enter 1\n",
      "To subtract enter 2 \n",
      "To multiply enter 3 \n",
      "To divide enter 4       \n",
      "To divide and find quotient enter 5 \n",
      "To divide and find remainder enter 6       \n",
      "To divide and find num1 to the power of num2 enter 7 \n",
      "To Come out of the program enter 8\n",
      "Enter your choice: 2\n",
      "What is the first number? 5\n",
      "What is the second number? 5\n",
      "5.0 - 5.0 = 0.0\n"
     ]
    }
   ],
   "source": [
    "# step 1: ask user for calculation to be performed\n",
    "print(\"\\nWelcome to calculator\")\n",
    "print(\"To add enter 1\\nTo subtract enter 2 \\nTo multiply enter 3 \\nTo divide enter 4 \\\n",
    "      \\nTo divide and find quotient enter 5 \\nTo divide and find remainder enter 6 \\\n",
    "      \\nTo divide and find num1 to the power of num2 enter 7 \\nTo Come out of the program enter 8\")\n",
    "operation=input(\"Enter your choice: \")\n",
    "\n",
    "# step 2: ask for numbers, alert order matters dividing\n",
    "if operation == '6' or operation == '5' or operation == '7':\n",
    "    print('You chose {}.'.format(operation))\n",
    "    print('Please keep in mind that the order of your numbers matter for division.')\n",
    "\n",
    "# step 3: setup try/except for mathematical operation\n",
    "\n",
    "try:\n",
    "    # step 3a: immediately try to convert numbers input to floats\n",
    "    if operation=='1' or operation=='2' or operation== '3' or operation=='4' or operation=='5' or operation=='6' or operation=='7'or operation=='8':\n",
    "        num1 = input('What is the first number? ')\n",
    "        num2 = input('What is the second number? ')\n",
    "        num1, num2 = float(num1), float(num2)\n",
    "\n",
    "        # step 3b: perform operation and print result\n",
    "        if operation == '1':\n",
    "            result = num1 + num2\n",
    "            print('{} + {} = {}'.format(num1, num2, result))\n",
    "        elif operation == '2':\n",
    "            result = num1 - num2\n",
    "            print('{} - {} = {}'.format(num1, num2, result))\n",
    "        elif operation == '3':\n",
    "            result = num1 * num2\n",
    "            print('{} * {} = {}'.format(num1, num2, result))\n",
    "        elif operation == '4':\n",
    "            result = num1 / num2\n",
    "            print('{} / {} = {}'.format(num1, num2, result))\n",
    "        elif operation == '5':\n",
    "            result = num1 // num2\n",
    "            print('{} / {} quotient = {}'.format(num1, num2, result))\n",
    "        elif operation == '6':\n",
    "            result = num1 % num2\n",
    "            print('{} / {} remainder = {}'.format(num1, num2, result))\n",
    "        elif operation == '7':\n",
    "            result = num1 / num2\n",
    "            result2=num1**num2\n",
    "            print('{} / {} = {}' .format(num1, num2, result))   \n",
    "            print('{} ^ {} = {}' .format(num1, num2, result2))\n",
    "        elif operation == '8':\n",
    "            print(\"Program exit\")\n",
    "    else:\n",
    "        # else will be hit if they didn't chose an option correctly\n",
    "        print('Sorry, but \"{}\" is not an option.'.format(operation))\n",
    "       \n",
    "except:\n",
    "    print('\\nError: Improper numbers used. Please try again.')\n",
    "   "
   ]
  },
  {
   "cell_type": "code",
   "execution_count": null,
   "id": "c13e92c1",
   "metadata": {},
   "outputs": [],
   "source": []
  },
  {
   "cell_type": "code",
   "execution_count": null,
   "id": "e8b4faef",
   "metadata": {},
   "outputs": [],
   "source": []
  },
  {
   "cell_type": "code",
   "execution_count": 41,
   "id": "063f81a4",
   "metadata": {},
   "outputs": [],
   "source": [
    "# Q. W A P to check whether a year entered by user is an leap year or not?\n",
    "# Check with below input:-\n",
    "#  leap year:- 2012, 1968, 2004, 1200, 1600,2400\n",
    "#  Non-lear year:- 1971, 2006, 1700,1800,1900"
   ]
  },
  {
   "cell_type": "code",
   "execution_count": 60,
   "id": "3f1e847c",
   "metadata": {},
   "outputs": [
    {
     "name": "stdout",
     "output_type": "stream",
     "text": [
      "Enter a year: 2012\n",
      "2012 is a leap year\n"
     ]
    }
   ],
   "source": [
    "year=int(input(\"Enter a year: \"))\n",
    "\n",
    "# divided by 100 means century year (ending with 00)\n",
    "# century year divided by 400 is leap year\n",
    "\n",
    "if (year % 400 == 0) and (year % 100 == 0):\n",
    "    print(\"{0} is a leap year\".format(year))\n",
    "\n",
    "# not divided by 100 means not a century year\n",
    "# year divided by 4 is a leap year\n",
    "elif (year % 4 ==0) and (year % 100 != 0):\n",
    "    print(\"{0} is a leap year\".format(year))\n",
    "\n",
    "# if not divided by both 400 (century year) and 4 (not century year)\n",
    "# year is not leap year\n",
    "else:\n",
    "    print(\"{0} is not a leap year\".format(year))"
   ]
  },
  {
   "cell_type": "code",
   "execution_count": null,
   "id": "440f321f",
   "metadata": {},
   "outputs": [],
   "source": []
  },
  {
   "cell_type": "code",
   "execution_count": null,
   "id": "dcaeb583",
   "metadata": {},
   "outputs": [],
   "source": []
  },
  {
   "cell_type": "code",
   "execution_count": 63,
   "id": "6a118086",
   "metadata": {},
   "outputs": [
    {
     "name": "stdout",
     "output_type": "stream",
     "text": [
      "Enter a integer: 15\n",
      "odd number\n"
     ]
    }
   ],
   "source": [
    "# Q. W A P which takes one number from the user and checks whether it is\n",
    "# an even or odd number?, If it even then prints number is\n",
    "# even number else prints that number is odd number.\n",
    "\n",
    "a=int(input(\"Enter a integer: \"))\n",
    "if a%2==0:\n",
    "    print(\"even number\")\n",
    "else:\n",
    "    print(\"odd number\")"
   ]
  },
  {
   "cell_type": "code",
   "execution_count": null,
   "id": "9f613758",
   "metadata": {},
   "outputs": [],
   "source": []
  },
  {
   "cell_type": "code",
   "execution_count": null,
   "id": "0d9374be",
   "metadata": {},
   "outputs": [],
   "source": []
  },
  {
   "cell_type": "code",
   "execution_count": 5,
   "id": "2058bb35",
   "metadata": {},
   "outputs": [],
   "source": [
    "# Q. W A P which takes two numbers from the user and prints below output:-\n",
    "#  1. num1 is greater than num2 if num1 is greater than num2\n",
    "#  2. num1 is smaller than num2 if num1 is smaller than num2\n",
    "#  3. num1 is equal to num2 if num1 and num2 are equal\n",
    "\n",
    "# Note:- 1. Do this problem using if - else\n",
    "#  2. Do this using ternary operator"
   ]
  },
  {
   "cell_type": "code",
   "execution_count": 64,
   "id": "b37a7b6b",
   "metadata": {},
   "outputs": [
    {
     "name": "stdout",
     "output_type": "stream",
     "text": [
      "Enter a number: 20\n",
      "Enter a number: 20\n",
      "num1 is equal to num2 if num1 and num2 are equal\n"
     ]
    }
   ],
   "source": [
    "num1=float(input(\"Enter a number: \"))\n",
    "num2=float(input(\"Enter a number: \"))\n",
    "if num1>num2:\n",
    "    print(\"num1 is greater than num2\")\n",
    "elif num1<num2:\n",
    "    print(\"num1 is smaller than num2\")\n",
    "else:\n",
    "    print(\"num1 is equal to num2\")"
   ]
  },
  {
   "cell_type": "code",
   "execution_count": 65,
   "id": "04636c66",
   "metadata": {},
   "outputs": [
    {
     "name": "stdout",
     "output_type": "stream",
     "text": [
      "Enter a number: 10\n",
      "Enter a number: 20\n",
      "num1 is smaller than num2\n"
     ]
    }
   ],
   "source": [
    "num1=float(input(\"Enter a number: \"))\n",
    "num2=float(input(\"Enter a number: \"))\n",
    "print(\"num1 is greater than num2\") if num1>num2 else print(\"num1 is smaller than num2\") if num1<num2 else print(\"num1 is equal to num2\")"
   ]
  },
  {
   "cell_type": "code",
   "execution_count": null,
   "id": "633a9335",
   "metadata": {},
   "outputs": [],
   "source": []
  },
  {
   "cell_type": "code",
   "execution_count": null,
   "id": "e893a6c9",
   "metadata": {},
   "outputs": [],
   "source": []
  },
  {
   "cell_type": "code",
   "execution_count": 6,
   "id": "c760a678",
   "metadata": {},
   "outputs": [],
   "source": [
    "# Q. W A P which takes three numbers from the user and prints below\n",
    "# output:-\n",
    "#  1. num1 is greater than num2 and num3 if num1 is greater than num2\n",
    "# and num3\n",
    "#  2. num2 is greater than num1 and num3 if num2 is greater than num1\n",
    "# and num3\n",
    "#  3. num3 is greater than num1 and num2 if num3 is greater than num1\n",
    "# and num2\n",
    "\n",
    "# Note:- 1. Do this problem using if - elif - else\n",
    "#  2. Do this using ternary operator\n",
    "# a = a if a>b else b\n"
   ]
  },
  {
   "cell_type": "code",
   "execution_count": 69,
   "id": "73377829",
   "metadata": {},
   "outputs": [
    {
     "name": "stdout",
     "output_type": "stream",
     "text": [
      "Enter a number: 3\n",
      "Enter a number: 2\n",
      "Enter a number: 1\n",
      "num1 is greater than num2 and num3\n"
     ]
    }
   ],
   "source": [
    "num1=float(input(\"Enter a number: \"))\n",
    "num2=float(input(\"Enter a number: \"))\n",
    "num3=float(input(\"Enter a number: \"))\n",
    "if num1>num2 and num1>num3:\n",
    "    print(\"num1 is greater than num2 and num3\")\n",
    "elif num2>num1 and num2>num3:\n",
    "    print(\"num2 is greater than num1 and num3\")\n",
    "elif num3>num1 and num3>num2:\n",
    "    print(\"num3 is greater than num1 and num2\")"
   ]
  },
  {
   "cell_type": "code",
   "execution_count": 3,
   "id": "6e5efca4",
   "metadata": {},
   "outputs": [
    {
     "name": "stdout",
     "output_type": "stream",
     "text": [
      "Enter a number: 1\n",
      "Enter a number: 2\n",
      "Enter a number: 3\n",
      "num3 is greater than num1 and num2\n"
     ]
    }
   ],
   "source": [
    "# Using ternary operator\n",
    "num1=float(input(\"Enter a number: \"))\n",
    "num2=float(input(\"Enter a number: \"))\n",
    "num3=float(input(\"Enter a number: \"))\n",
    "print(\"num1 is greater than num2 and num3\") if num1>num2 and num1>num3 else print(\"num2 is greater than num1 and num3\") \\\n",
    "if num2>num1 and num2>num3 else print(\"num3 is greater than num1 and num2\")"
   ]
  },
  {
   "cell_type": "code",
   "execution_count": null,
   "id": "4123ad3c",
   "metadata": {},
   "outputs": [],
   "source": []
  },
  {
   "cell_type": "code",
   "execution_count": null,
   "id": "03f9e30d",
   "metadata": {},
   "outputs": [],
   "source": []
  },
  {
   "cell_type": "code",
   "execution_count": null,
   "id": "7eaa8962",
   "metadata": {},
   "outputs": [],
   "source": []
  },
  {
   "cell_type": "markdown",
   "id": "0257f797",
   "metadata": {},
   "source": [
    "# 2. Loops - for loop, while loop"
   ]
  },
  {
   "cell_type": "markdown",
   "id": "ec7dd0c6",
   "metadata": {},
   "source": [
    "Q. Write a Python program to find the length of the my_str using loop:-  \n",
    "Input:- 'Write a Python program to find the length of the my_str'  \n",
    "Output:- 55"
   ]
  },
  {
   "cell_type": "code",
   "execution_count": 14,
   "id": "67997f5a",
   "metadata": {},
   "outputs": [
    {
     "name": "stdout",
     "output_type": "stream",
     "text": [
      "Enter a string: Write a Python program to find the length of the my_str\n",
      "55\n"
     ]
    }
   ],
   "source": [
    "count=0\n",
    "a=input(\"Enter a string: \")\n",
    "for i in a:\n",
    "    count +=1\n",
    "    \n",
    "print(count)"
   ]
  },
  {
   "cell_type": "code",
   "execution_count": null,
   "id": "976b1f0b",
   "metadata": {},
   "outputs": [],
   "source": []
  },
  {
   "cell_type": "code",
   "execution_count": null,
   "id": "80c087db",
   "metadata": {},
   "outputs": [],
   "source": []
  },
  {
   "cell_type": "markdown",
   "id": "524b5b7c",
   "metadata": {},
   "source": [
    "Q. Write a Python program to find the total number of times letter 'p'  \n",
    "is appeared in the below string using loop:-  \n",
    "Input:- 'peter piper picked a peck of pickled peppers.\\n'  \n",
    "Output:- 9"
   ]
  },
  {
   "cell_type": "code",
   "execution_count": 19,
   "id": "6c728eef",
   "metadata": {},
   "outputs": [
    {
     "name": "stdout",
     "output_type": "stream",
     "text": [
      "9\n"
     ]
    }
   ],
   "source": [
    "mystr='peter piper picked a peck of pickled peppers.\\n'\n",
    "count=0\n",
    "for i in mystr:\n",
    "    if i=='p':\n",
    "        count+=1\n",
    "print(count)"
   ]
  },
  {
   "cell_type": "code",
   "execution_count": null,
   "id": "662af115",
   "metadata": {},
   "outputs": [],
   "source": []
  },
  {
   "cell_type": "code",
   "execution_count": null,
   "id": "689c7331",
   "metadata": {},
   "outputs": [],
   "source": []
  },
  {
   "cell_type": "markdown",
   "id": "0f35d270",
   "metadata": {},
   "source": [
    "Q. Write a Python Program, to print all the indexes of all occurences of  \n",
    "letter 'p' appeared in the string using loop:-  \n",
    "Input:- 'peter piper picked a peck of pickled peppers.'   \n",
    "Output:-  \n",
    "0\n",
    "6\n",
    "8\n",
    "12\n",
    "21\n",
    "29\n",
    "37\n",
    "39\n",
    "40"
   ]
  },
  {
   "cell_type": "code",
   "execution_count": 27,
   "id": "31954dcc",
   "metadata": {
    "scrolled": false
   },
   "outputs": [
    {
     "name": "stdout",
     "output_type": "stream",
     "text": [
      "0\n",
      "6\n",
      "8\n",
      "12\n",
      "21\n",
      "29\n",
      "37\n",
      "39\n",
      "40\n"
     ]
    }
   ],
   "source": [
    "mystr='peter piper picked a peck of pickled peppers.\\n'\n",
    "k=0\n",
    "while k<len(mystr):\n",
    "    if mystr[k]=='p':\n",
    "        print(k)\n",
    "    k+=1"
   ]
  },
  {
   "cell_type": "code",
   "execution_count": null,
   "id": "79662549",
   "metadata": {},
   "outputs": [],
   "source": []
  },
  {
   "cell_type": "code",
   "execution_count": null,
   "id": "4833c6ef",
   "metadata": {},
   "outputs": [],
   "source": []
  },
  {
   "cell_type": "markdown",
   "id": "f2b83381",
   "metadata": {},
   "source": [
    "Q. Write a python program to find below output using loop:-  \n",
    "Input:- 'peter piper picked a peck of pickled peppers.'  \n",
    "Output:- ['peter', 'piper', 'picked', 'a', 'peck', 'of', 'pickled',\n",
    "'peppers']"
   ]
  },
  {
   "cell_type": "code",
   "execution_count": 71,
   "id": "abaf4c52",
   "metadata": {},
   "outputs": [
    {
     "name": "stdout",
     "output_type": "stream",
     "text": [
      "['peter', 'piper', 'picked', 'a', 'peck', 'of', 'pickled', 'peppers']\n"
     ]
    }
   ],
   "source": [
    "# using loop\n",
    "s = 'peter piper picked a peck of pickled peppers.'\n",
    "l1 = []\n",
    "s1 = \"\"\n",
    "for i in s:\n",
    "    if(i==' ' or i=='.'):\n",
    "        if(len(s1)>0):\n",
    "            l1.append(s1)\n",
    "        s1 = \"\"\n",
    "        \n",
    "    else:\n",
    "        s1 = s1+i\n",
    "if(len(s1)>0):\n",
    "    l1.append(s1)\n",
    "print(l1)"
   ]
  },
  {
   "cell_type": "code",
   "execution_count": 57,
   "id": "89a4d8d3",
   "metadata": {
    "scrolled": true
   },
   "outputs": [
    {
     "name": "stdout",
     "output_type": "stream",
     "text": [
      "peter piper picked a peck of pickled peppers\n",
      "['peter', 'piper', 'picked', 'a', 'peck', 'of', 'pickled', 'peppers']\n"
     ]
    }
   ],
   "source": [
    "# using function\n",
    "input1= 'peter piper picked a peck of pickled peppers.'\n",
    "a=input1.replace(\".\",\"\")\n",
    "\n",
    "s=a.split(\" \")\n",
    "print(s)"
   ]
  },
  {
   "cell_type": "code",
   "execution_count": null,
   "id": "e13acc48",
   "metadata": {},
   "outputs": [],
   "source": []
  },
  {
   "cell_type": "code",
   "execution_count": null,
   "id": "1187adde",
   "metadata": {},
   "outputs": [],
   "source": []
  },
  {
   "cell_type": "markdown",
   "id": "f42bfddc",
   "metadata": {},
   "source": [
    "Q. Write a python program to find below output using loop  \n",
    "Input:- 'peter piper picked a peck of pickled peppers.'  \n",
    "Output:- 'peppers pickled of peck a picked piper peter'"
   ]
  },
  {
   "cell_type": "code",
   "execution_count": 92,
   "id": "a8bcae15",
   "metadata": {},
   "outputs": [
    {
     "name": "stdout",
     "output_type": "stream",
     "text": [
      " peppers pickled of peck a picked piper peter  "
     ]
    }
   ],
   "source": [
    "# Method1: using loop and list\n",
    "s = 'peter piper picked a peck of pickled peppers.'\n",
    "l1 = []\n",
    "s1 = \"\"\n",
    "for i in s:\n",
    "    if(i==' ' or i=='.'):\n",
    "        if(len(s1)>0):\n",
    "            l1.append(s1)\n",
    "        s1 = \"\"\n",
    "        \n",
    "    else:\n",
    "        s1 = s1+i\n",
    "if(len(s1)>0):\n",
    "    l1.append(s1)\n",
    "# print(l1)\n",
    "\n",
    "# reverse the list\n",
    "l2=l1[::-1]\n",
    "\n",
    "\n",
    "# converting list to string\n",
    "s2=' '\n",
    "for k in l2:\n",
    "        s2+=k + ' '\n",
    "        \n",
    "        \n",
    "print(s2,end=' ')"
   ]
  },
  {
   "cell_type": "code",
   "execution_count": 129,
   "id": "a03e236b",
   "metadata": {},
   "outputs": [
    {
     "name": "stdout",
     "output_type": "stream",
     "text": [
      "peppers pickled of peck a picked piper peter\n"
     ]
    }
   ],
   "source": [
    "# Method 2 without list\n",
    "\n",
    "str = 'peter piper picked a peck of pickled peppers.'\n",
    "\n",
    "\n",
    "i = len(str)-2 # 2nd last character of string, removing dot\n",
    "\n",
    "\n",
    "start = end = i+1\n",
    "\n",
    "result = ''\n",
    "\n",
    "while i >= 0:\n",
    "    \n",
    "    if str[i] == ' ': # if string has space, initially it if fals, so condition fail, so decrement i\n",
    "        start = i+1   # the condition will satisfy when we get space, then increment start from space to character(l to R)\n",
    "        while start != end:\n",
    "            result += str[start]\n",
    "            start += 1\n",
    "        result += ' '\n",
    "        end = i\n",
    "    i -= 1 # decrement i bcz condition failed\n",
    "start = 0\n",
    "\n",
    "# for printing 1st character, bcz the above loop will work from last to first space\n",
    "\n",
    "while start != end:\n",
    "    result += str[start]\n",
    "    start += 1\n",
    "\n",
    "print(result)\n",
    " \n"
   ]
  },
  {
   "cell_type": "code",
   "execution_count": null,
   "id": "0738aa2d",
   "metadata": {},
   "outputs": [],
   "source": []
  },
  {
   "cell_type": "code",
   "execution_count": 53,
   "id": "6ee16654",
   "metadata": {
    "scrolled": true
   },
   "outputs": [
    {
     "name": "stdout",
     "output_type": "stream",
     "text": [
      "['peppers', 'pickled', 'of', 'peck', 'a', 'picked', 'piper', 'peter']\n"
     ]
    }
   ],
   "source": [
    "# M3\n",
    "# using function\n",
    "input= 'peter piper picked a peck of pickled peppers.'\n",
    "a=input.replace(\".\",\"\")\n",
    "s=a.split(\" \")\n",
    "print(s[::-1])"
   ]
  },
  {
   "cell_type": "code",
   "execution_count": null,
   "id": "2987ee1b",
   "metadata": {},
   "outputs": [],
   "source": []
  },
  {
   "cell_type": "code",
   "execution_count": null,
   "id": "ad68d2dd",
   "metadata": {},
   "outputs": [],
   "source": []
  },
  {
   "cell_type": "markdown",
   "id": "0732baed",
   "metadata": {},
   "source": [
    "Q. Write a python program to find below output using loop:-  \n",
    "Input:- 'peter piper picked a peck of pickled peppers.'  \n",
    "Output:- '.sreppep delkcip fo kcep a dekcip repip retep'  \n"
   ]
  },
  {
   "cell_type": "code",
   "execution_count": 110,
   "id": "5eec490d",
   "metadata": {},
   "outputs": [
    {
     "name": "stdout",
     "output_type": "stream",
     "text": [
      "The original string  is :  peter piper picked a peck of pickled peppers.\n",
      "The reversed string using a while loop is :  .sreppep delkcip fo kcep a dekcip repip retep\n"
     ]
    }
   ],
   "source": [
    "# M1 loops\n",
    "\n",
    "str = \"peter piper picked a peck of pickled peppers.\" #  string variable  \n",
    "print (\"The original string  is : \",str)   \n",
    "reverse_String = \"\"  # Empty String  \n",
    "count = len(str) # Find length of a string and save in count variable  \n",
    "while count > 0:   \n",
    "    reverse_String += str[ count - 1 ] # save the value of str[count-1] in reverseString  \n",
    "    count = count - 1 # decrement index  \n",
    "print (\"The reversed string using a while loop is : \",reverse_String)# reversed string "
   ]
  },
  {
   "cell_type": "code",
   "execution_count": 93,
   "id": "5f2ad9b1",
   "metadata": {
    "scrolled": true
   },
   "outputs": [
    {
     "name": "stdout",
     "output_type": "stream",
     "text": [
      ".sreppep delkcip fo kcep a dekcip repip retep\n"
     ]
    }
   ],
   "source": [
    "# M2\n",
    "input2= 'peter piper picked a peck of pickled peppers.'\n",
    "\n",
    "b=input2[::-1]\n",
    "print(b)"
   ]
  },
  {
   "cell_type": "code",
   "execution_count": null,
   "id": "11d21f7f",
   "metadata": {},
   "outputs": [],
   "source": []
  },
  {
   "cell_type": "code",
   "execution_count": null,
   "id": "72ccecf8",
   "metadata": {},
   "outputs": [],
   "source": []
  },
  {
   "cell_type": "markdown",
   "id": "35f90e62",
   "metadata": {},
   "source": [
    "Q. Write a python program to find below output using loop:-  \n",
    "Input:- 'peter piper picked a peck of pickled peppers.'  \n",
    "Output:- 'retep repip dekcip a kcep fo delkcip sreppep'  \n"
   ]
  },
  {
   "cell_type": "code",
   "execution_count": 131,
   "id": "249f56a3",
   "metadata": {
    "scrolled": true
   },
   "outputs": [
    {
     "name": "stdout",
     "output_type": "stream",
     "text": [
      "The original string  is :  peter piper picked a peck of pickled peppers.\n",
      "The reversed string using a while loop is :  sreppep delkcip fo kcep a dekcip repip retep\n",
      "retep repip dekcip a kcep fo delkcip sreppep\n"
     ]
    }
   ],
   "source": [
    "# Method1: using loop \n",
    "# step1: reverse the whole string\n",
    "\n",
    "str = \"peter piper picked a peck of pickled peppers.\"  \n",
    "print (\"The original string  is : \",str)   \n",
    "reverse_String = \"\"  \n",
    "count = len(str)-1 # -1 to remove dot from the end\n",
    "while count > 0:   \n",
    "    reverse_String += str[ count - 1 ]   \n",
    "    count = count - 1 \n",
    "print (\"The reversed string using a while loop is : \",reverse_String)\n",
    "# sreppep delkcip fo kcep a dekcip repip retep        \n",
    " \n",
    "# Step 2: Reverse the words of string\n",
    "str = reverse_String\n",
    "\n",
    "\n",
    "i = len(str)-1 \n",
    "\n",
    "\n",
    "start = end = i+1\n",
    "\n",
    "result = ''\n",
    "\n",
    "while i >= 0:\n",
    "    \n",
    "    if str[i] == ' ': \n",
    "        start = i+1   \n",
    "        while start != end:\n",
    "            result += str[start]\n",
    "            start += 1\n",
    "        result += ' '\n",
    "        end = i\n",
    "    i -= 1 \n",
    "start = 0\n",
    "\n",
    "# for printing 1st character, bcz the above loop will work from last to first space\n",
    "\n",
    "while start != end:\n",
    "    result += str[start]\n",
    "    start += 1\n",
    "\n",
    "print(result)"
   ]
  },
  {
   "cell_type": "code",
   "execution_count": 104,
   "id": "b6294214",
   "metadata": {},
   "outputs": [
    {
     "name": "stdout",
     "output_type": "stream",
     "text": [
      ".\n"
     ]
    }
   ],
   "source": []
  },
  {
   "cell_type": "code",
   "execution_count": null,
   "id": "d696536e",
   "metadata": {},
   "outputs": [],
   "source": []
  },
  {
   "cell_type": "markdown",
   "id": "d4bd5a10",
   "metadata": {},
   "source": [
    "Q. Write a python program to find below output using loop:-  \n",
    "Input:- 'peter piper picked a peck of pickled peppers.'  \n",
    "Output:- 'Peter Piper Picked A Peck Of Pickled Peppers'\n"
   ]
  },
  {
   "cell_type": "code",
   "execution_count": 126,
   "id": "67ba9dad",
   "metadata": {},
   "outputs": [
    {
     "name": "stdout",
     "output_type": "stream",
     "text": [
      "Peter  Piper  Picked  A  Peck  Of  Pickled  Peppers"
     ]
    }
   ],
   "source": [
    "# M1 USING LOOPS\n",
    "s = 'peter piper picked a peck of pickled peppers.'\n",
    "\n",
    "s1 = \"\"\n",
    "s3 = \"\"\n",
    "s5=''\n",
    "\n",
    "i=0\n",
    "while i <(len(s)-1): \n",
    "    \n",
    "    if i==0:\n",
    "        ascii1=ord(s[i])\n",
    "        ascii2=ascii1-32\n",
    "        s1=chr(ascii2)\n",
    "        print(s1,end='')        \n",
    "        i = i+1\n",
    "        continue\n",
    "    if s[i]==\" \":\n",
    "        \n",
    "        print(s[i],end=' ')\n",
    "        i = i+1\n",
    "        ascii1=ord(s[i])\n",
    "        ascii2=ascii1-32\n",
    "        s2=chr(ascii2)\n",
    "        print(s2,end='')\n",
    "    else:            \n",
    "        s4=s[i]\n",
    "        print(s4,end='')\n",
    "    \n",
    "    i=i+1\n",
    "    print(end='')\n",
    "    \n",
    "     \n",
    "        \n",
    "\n"
   ]
  },
  {
   "cell_type": "code",
   "execution_count": 134,
   "id": "d3dbf650",
   "metadata": {},
   "outputs": [
    {
     "name": "stdout",
     "output_type": "stream",
     "text": [
      "The original string  is :  peter piper picked a peck of pickled peppers.\n",
      "Peter Piper Picked A Peck Of Pickled Peppers.\n"
     ]
    }
   ],
   "source": [
    "str = \"peter piper picked a peck of pickled peppers.\"  \n",
    "print (\"The original string  is : \",str) \n",
    "a=str.title()\n",
    "print(a)"
   ]
  },
  {
   "cell_type": "code",
   "execution_count": null,
   "id": "8228b279",
   "metadata": {},
   "outputs": [],
   "source": []
  },
  {
   "cell_type": "code",
   "execution_count": null,
   "id": "f978e77e",
   "metadata": {},
   "outputs": [],
   "source": []
  },
  {
   "cell_type": "markdown",
   "id": "57412e33",
   "metadata": {},
   "source": [
    "Q. Write a python program to find below output using loop:-\n",
    "Input:- 'Peter Piper Picked A Peck Of Pickled Peppers.'\n",
    "Output:- 'Peter piper picked a peck of pickled peppers'"
   ]
  },
  {
   "cell_type": "code",
   "execution_count": 133,
   "id": "b4bb78eb",
   "metadata": {},
   "outputs": [
    {
     "name": "stdout",
     "output_type": "stream",
     "text": [
      "Peter  piper  picked  a  peck  of  pickled  peppers"
     ]
    }
   ],
   "source": [
    "# Worng Input taken by me\n",
    "\n",
    "s = \"Peter Piper Picked A Peck Of Pickled Peppers.\"  \n",
    "\n",
    "s1 = \"\"\n",
    "s3 = \"\"\n",
    "s5=''\n",
    "\n",
    "i=0\n",
    "while i <(len(s)-1): \n",
    "    \n",
    "    \n",
    "    if s[i]==\" \":\n",
    "        \n",
    "        print(s[i],end=' ')\n",
    "        i = i+1\n",
    "        ascii1=ord(s[i])\n",
    "        ascii2=ascii1+32\n",
    "        s2=chr(ascii2)\n",
    "        print(s2,end='')\n",
    "    else:            \n",
    "        s4=s[i]\n",
    "        print(s4,end='')\n",
    "    \n",
    "    i=i+1\n",
    "    print(end='')\n",
    "    \n",
    "     "
   ]
  },
  {
   "cell_type": "code",
   "execution_count": null,
   "id": "4f3891d2",
   "metadata": {},
   "outputs": [],
   "source": []
  },
  {
   "cell_type": "code",
   "execution_count": null,
   "id": "387c5761",
   "metadata": {},
   "outputs": [],
   "source": []
  },
  {
   "cell_type": "markdown",
   "id": "2ec662ca",
   "metadata": {},
   "source": [
    "Q. Write a python program to implement index method using loop. If\n",
    "sub_str is found in my_str then it will print the index\n",
    "of first occurrence of first character of matching string in my_str:-  \n",
    "Input:- my_str = 'Peter Piper Picked A Peck Of Pickled Peppers.',  \n",
    "sub_str = 'Pickl'  \n",
    "Output:- 29  "
   ]
  },
  {
   "cell_type": "code",
   "execution_count": 179,
   "id": "08c7952a",
   "metadata": {},
   "outputs": [
    {
     "name": "stdout",
     "output_type": "stream",
     "text": [
      "Substring found at 29\n"
     ]
    }
   ],
   "source": [
    "my_str = 'Peter Piper Picked A Peck Of Pickled Peppers.'\n",
    "sub_str='Pickl'\n",
    "a=0\n",
    "for i in range(len(my_str)-len(sub_str)+1):\n",
    "    j=0\n",
    "    while j<(len(sub_str)):\n",
    "        if my_str[i+j]==sub_str[j]:\n",
    "            j=j+1\n",
    "        else:\n",
    "            break\n",
    "    if j==len(sub_str):\n",
    "        a=1\n",
    "        print('Substring found at', i)\n",
    "        \n",
    "    \n",
    "if a==0:\n",
    "    print(\"Sub string not found\")\n",
    "\n",
    "        "
   ]
  },
  {
   "cell_type": "code",
   "execution_count": 180,
   "id": "a2fa71e9",
   "metadata": {},
   "outputs": [
    {
     "name": "stdout",
     "output_type": "stream",
     "text": [
      "Substring found at 12\n",
      "Substring found at 21\n",
      "Substring found at 29\n"
     ]
    }
   ],
   "source": [
    "# bad code\n",
    "my_str = 'Peter Piper Picked A Peck Of Pickled Peppers.'\n",
    "sub_str = 'Peck'\n",
    "new_str = 'Pack'\n",
    "a=0\n",
    "for i in range(len(my_str)):\n",
    "    for j in range(len(sub_str)):\n",
    "        if my_str[i]==sub_str[j]:\n",
    "            j=j+1\n",
    "        else:\n",
    "            j=0\n",
    "    if j==len(sub_str):\n",
    "        a=1\n",
    "        print('Substring found at', i-len(sub_str)+1)\n",
    "        \n",
    "\n",
    "    \n",
    "if a==0:\n",
    "    print(\"Sub string not found\")"
   ]
  },
  {
   "cell_type": "markdown",
   "id": "1b7416d7",
   "metadata": {},
   "source": [
    "Q. Write a python program to implement replace method using loop. If\n",
    "sub_str is found in my_str then it will replace the first\n",
    "occurrence of sub_str with new_str else it will will print sub_str not\n",
    "found:-  \n",
    "Input:- my_str = 'Peter Piper Picked A Peck Of Pickled Peppers.',  \n",
    "sub_str = 'Peck', new_str = 'Pack'  \n",
    "Output:- 'Peter Piper Picked A Pack Of Pickled Peppers.'  "
   ]
  },
  {
   "cell_type": "code",
   "execution_count": 153,
   "id": "376271c3",
   "metadata": {},
   "outputs": [
    {
     "name": "stdout",
     "output_type": "stream",
     "text": [
      "Peter Piper Picked A Pack Of Pickled Peppers.\n"
     ]
    }
   ],
   "source": [
    "# Method-1\n",
    "my_str = 'Peter Piper Picked A Peck Of Pickled Peppers.'\n",
    "sub_str = 'Peck'\n",
    "new_str = 'Pack'\n",
    "\n",
    "len_substr = len(sub_str)\n",
    "out_str = ''\n",
    "i = 0\n",
    "while i < len(my_str):\n",
    "    if my_str[i:i+len_substr] == sub_str:\n",
    "        out_str = out_str + new_str\n",
    "        i += len_substr\n",
    "    else:\n",
    "        out_str = out_str + my_str[i]\n",
    "        i += 1\n",
    "        \n",
    "print(out_str)"
   ]
  },
  {
   "cell_type": "code",
   "execution_count": 181,
   "id": "c72780d3",
   "metadata": {},
   "outputs": [
    {
     "name": "stdout",
     "output_type": "stream",
     "text": [
      "Substring found at 21\n",
      "Peter Piper Picked A Pack Of Pickled Peppers.\n"
     ]
    }
   ],
   "source": [
    "# Method-2\n",
    "my_str = 'Peter Piper Picked A Peck Of Pickled Peppers.'\n",
    "sub_str = 'Peck'\n",
    "new_str = 'Pack'\n",
    "a=0\n",
    "for i in range(len(my_str)-len(sub_str)+1):\n",
    "    j=0\n",
    "    while j<(len(sub_str)):\n",
    "        if my_str[i+j]==sub_str[j]:\n",
    "            j=j+1\n",
    "        else:\n",
    "            break\n",
    "    if j==len(sub_str):\n",
    "        a=1\n",
    "        print('Substring found at', i)\n",
    "        \n",
    "for char in sub_str:\n",
    "    my=my_str.replace(sub_str,new_str)\n",
    "print(my)\n",
    "    \n",
    "if a==0:\n",
    "    print(\"Sub string not found\")"
   ]
  },
  {
   "cell_type": "code",
   "execution_count": null,
   "id": "49fa713c",
   "metadata": {},
   "outputs": [],
   "source": []
  },
  {
   "cell_type": "code",
   "execution_count": null,
   "id": "6846f824",
   "metadata": {},
   "outputs": [],
   "source": [
    "# Q. Write a python program to find below output (implements rjust and ljust) using loop:-  \n",
    "#Input:- 'Peter Piper Picked A Peck Of Pickled Peppers.', sub_str =\n",
    "#'Peck',  \n",
    "#Output:- '*********************Peck********************'"
   ]
  },
  {
   "cell_type": "code",
   "execution_count": null,
   "id": "be529040",
   "metadata": {},
   "outputs": [],
   "source": []
  },
  {
   "cell_type": "code",
   "execution_count": 165,
   "id": "ccc26d65",
   "metadata": {},
   "outputs": [
    {
     "name": "stdout",
     "output_type": "stream",
     "text": [
      "*********************Peck********************\n"
     ]
    }
   ],
   "source": [
    "\n",
    "my_str = 'Peter Piper Picked A Peck Of Pickled Peppers.'\n",
    "sub_str = 'Peck'\n",
    "new_str = '*'\n",
    "\n",
    "len_substr = len(sub_str)\n",
    "out_str = ''\n",
    "i = 0\n",
    "while i < len(my_str):\n",
    "    if my_str[i:i+len_substr] == sub_str:\n",
    "        out_str = out_str + sub_str\n",
    "        i += len_substr\n",
    "    else:\n",
    "        out_str = out_str+'*' \n",
    "        i += 1\n",
    "        \n",
    "print(out_str)"
   ]
  },
  {
   "cell_type": "code",
   "execution_count": null,
   "id": "290d8773",
   "metadata": {},
   "outputs": [],
   "source": []
  },
  {
   "cell_type": "code",
   "execution_count": null,
   "id": "f1e07ab2",
   "metadata": {},
   "outputs": [],
   "source": []
  },
  {
   "cell_type": "markdown",
   "id": "339860bf",
   "metadata": {},
   "source": [
    "Q. Write a python program to find below output using loop:-  \n",
    "Input:- 'This is Python class', sep = ' is',  \n",
    "Output:- ['This', 'is', 'Python class']"
   ]
  },
  {
   "cell_type": "code",
   "execution_count": 138,
   "id": "4adf4d54",
   "metadata": {},
   "outputs": [
    {
     "name": "stdout",
     "output_type": "stream",
     "text": [
      "['This', 'is', 'Python class']\n"
     ]
    }
   ],
   "source": [
    "my_str = 'This is Python class'\n",
    "sub_str=' is'\n",
    "a=0\n",
    "l4=[]\n",
    "l3=[]\n",
    "s3=''\n",
    "for i in range(len(my_str)-len(sub_str)+1):\n",
    "    j=0\n",
    "    while j<(len(sub_str)):\n",
    "        if my_str[i+j]==sub_str[j]:\n",
    "            my_str[i+j]\n",
    "            j=j+1\n",
    "        else:\n",
    "            break\n",
    "    if j==len(sub_str):\n",
    "        a=1\n",
    "        #print('Substring found at', i)\n",
    "        \n",
    "        l3.append(my_str[:i])\n",
    "        \n",
    "        l3.append(sub_str[1:i])\n",
    "        l4.append(my_str[i+len(sub_str)+1:])\n",
    "        \n",
    "        #print(i)\n",
    "        \n",
    "        #ls.append(my_str[i+len(sep):])\n",
    "        print(l3+l4)\n",
    "    \n",
    "if a==0:\n",
    "    print(\"Sub string not found\")"
   ]
  },
  {
   "cell_type": "code",
   "execution_count": 30,
   "id": "440854d0",
   "metadata": {},
   "outputs": [
    {
     "name": "stdout",
     "output_type": "stream",
     "text": [
      "4\n",
      "['This', ' is', ' Python class']\n"
     ]
    }
   ],
   "source": [
    "#m2\n",
    "str1 = \"This is Python class\"\n",
    "sep = ' is'\n",
    "ls=[]\n",
    "temp=\"\"\n",
    "for i in range(0,len(str1)):\n",
    "    if str1[i:i+len(sep)] == sep:\n",
    "        ls.append(str1[:i])\n",
    "        ls.append(sep)\n",
    "        print(i)\n",
    "        ls.append(str1[i+len(sep):])\n",
    "        #print()\n",
    "print(ls)"
   ]
  }
 ],
 "metadata": {
  "kernelspec": {
   "display_name": "Python 3 (ipykernel)",
   "language": "python",
   "name": "python3"
  },
  "language_info": {
   "codemirror_mode": {
    "name": "ipython",
    "version": 3
   },
   "file_extension": ".py",
   "mimetype": "text/x-python",
   "name": "python",
   "nbconvert_exporter": "python",
   "pygments_lexer": "ipython3",
   "version": "3.9.13"
  }
 },
 "nbformat": 4,
 "nbformat_minor": 5
}
