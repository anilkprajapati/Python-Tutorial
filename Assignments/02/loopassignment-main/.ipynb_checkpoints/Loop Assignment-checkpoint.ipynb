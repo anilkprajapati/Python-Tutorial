{
 "cells": [
  {
   "cell_type": "code",
   "execution_count": 4,
   "id": "9a41e1ae",
   "metadata": {},
   "outputs": [
    {
     "name": "stdout",
     "output_type": "stream",
     "text": [
      "Total Number of Characters in this String : \n",
      " 55\n"
     ]
    }
   ],
   "source": [
    "#Q. Write a Python program to find the length of the my_str using loop:-\n",
    "#Input:- 'Write a Python program to find the length of the my_str'\n",
    "#Output:- 55\n",
    "\n",
    "str1=\"Write a Python program to find the length of the my_str\"\n",
    "total = 0\n",
    " \n",
    "for n in str1:\n",
    "    total = total + 1\n",
    " \n",
    "print(\"Total Number of Characters in this String : \\n\", total)"
   ]
  },
  {
   "cell_type": "code",
   "execution_count": 5,
   "id": "4fbe03e7",
   "metadata": {},
   "outputs": [
    {
     "name": "stdout",
     "output_type": "stream",
     "text": [
      "Total Words in the given String: \n",
      " 9\n"
     ]
    }
   ],
   "source": [
    "#Q. Write a Python program to find the total number of times letter 'p'\n",
    "#is appeared in the below string using loop:-\n",
    "#Input:- 'peter piper picked a peck of pickled peppers.\\n'\n",
    "#Output:- 9\n",
    "\n",
    "\n",
    "str1=\"peter piper picked a peck of pickled peppers. \\\\n\"\n",
    "str2=str1.strip()\n",
    "total=1\n",
    "i=0\n",
    "for i in str2:\n",
    "    if i==\" \":\n",
    "        total+=1\n",
    "print(\"Total Words in the given String: \\n\",total)"
   ]
  },
  {
   "cell_type": "code",
   "execution_count": 6,
   "id": "0cea757e",
   "metadata": {},
   "outputs": [
    {
     "name": "stdout",
     "output_type": "stream",
     "text": [
      "The index of the 'p': \n",
      "\n",
      "0 0\n",
      "0 6\n",
      "0 8\n",
      "0 12\n",
      "0 21\n",
      "0 29\n",
      "0 37\n",
      "0 39\n",
      "0 40\n"
     ]
    }
   ],
   "source": [
    "#Q. Write a Python Program, to print all the indexes of all occurences of\n",
    "#letter 'p' appeared in the string using loop:-\n",
    "#Input:- 'peter piper picked a peck of pickled peppers.'\n",
    "#Output:-\n",
    "#0\n",
    "#6\n",
    "#8\n",
    "#12\n",
    "#21\n",
    "#29\n",
    "#37\n",
    "#39\n",
    "#40\n",
    "\n",
    "\n",
    "str1=\"peter piper picked a peck of pickled peppers.\"\n",
    "i = 0\n",
    "pos=0\n",
    "print(\"The index of the 'p': \\n\")\n",
    "for i in str1:\n",
    "    if i == 'p':\n",
    "        print(str1.index(\"p\"), pos)\n",
    "    pos+=1"
   ]
  },
  {
   "cell_type": "code",
   "execution_count": 7,
   "id": "fbee399d",
   "metadata": {},
   "outputs": [
    {
     "name": "stdout",
     "output_type": "stream",
     "text": [
      "['peter', 'piper', 'picked', 'a', 'peck', 'of', 'pickled', 'peppers.']\n"
     ]
    }
   ],
   "source": [
    "#Q. Write a python program to find below output using loop:-\n",
    "#Input:- 'peter piper picked a peck of pickled peppers.'\n",
    "#Output:- ['peter', 'piper', 'picked', 'a', 'peck', 'of', 'pickled','peppers']\n",
    "\n",
    "str1=\"peter piper picked a peck of pickled peppers.\"\n",
    "temp=\"\"\n",
    "list2=[]\n",
    "for i in str1:\n",
    "    if i != ' ':\n",
    "        temp=temp+i\n",
    "    else:\n",
    "        list2.append(temp)\n",
    "        temp=\"\"\n",
    "    #print(temp,\"\\n\", list2)\n",
    "if temp:\n",
    "        list2.append(temp)\n",
    "\n",
    "    \n",
    "print(list2)"
   ]
  },
  {
   "cell_type": "code",
   "execution_count": 8,
   "id": "b505a491",
   "metadata": {},
   "outputs": [
    {
     "name": "stdout",
     "output_type": "stream",
     "text": [
      " peppers pickled of peck a picked piper peter\n"
     ]
    }
   ],
   "source": [
    "#Q. Write a python program to find below output using loop:-\n",
    "#Input:- 'peter piper picked a peck of pickled peppers.'\n",
    "#Output:- 'peppers pickled of peck a picked piper peter'\n",
    "\n",
    "\n",
    "str1=\"peter piper picked a peck of pickled peppers\"\n",
    "temp=\"\"\n",
    "list2=[]\n",
    "for i in str1:\n",
    "    if i != ' ':\n",
    "        temp=temp+i\n",
    "    else:\n",
    "        list2.insert(0,temp)\n",
    "        temp=\"\"\n",
    "    #print(temp,\"\\n\", list2)\n",
    "if temp:\n",
    "        list2.insert(0,temp)\n",
    "i=0\n",
    "str3=\"\"\n",
    "for i in list2:\n",
    "    str3 = str3+' '+i\n",
    "print(str3)"
   ]
  },
  {
   "cell_type": "code",
   "execution_count": 9,
   "id": "a9512aa1",
   "metadata": {},
   "outputs": [
    {
     "name": "stdout",
     "output_type": "stream",
     "text": [
      ".sreppep delkcip fo kcep a dekcip repip retep\n"
     ]
    }
   ],
   "source": [
    "#Q. Write a python program to find below output using loop:-\n",
    "#Input:- 'peter piper picked a peck of pickled peppers.'\n",
    "#Output:- '.sreppep delkcip fo kcep a dekcip repip retep'\n",
    "\n",
    "str1=\"peter piper picked a peck of pickled peppers.\"\n",
    "str2=\"\"\n",
    "\n",
    "for i in str1:\n",
    "    str2=i+str2\n",
    "print(str2)"
   ]
  },
  {
   "cell_type": "code",
   "execution_count": 10,
   "id": "cd815f12",
   "metadata": {},
   "outputs": [
    {
     "name": "stdout",
     "output_type": "stream",
     "text": [
      " retep repip dekcip a kcep fo delkcip sreppep\n"
     ]
    }
   ],
   "source": [
    "#Q. Write a python program to find below output using loop:-\n",
    "#Input:- 'peter piper picked a peck of pickled peppers'\n",
    "#Output:- 'retep repip dekcip a kcep fo delkcip sreppep'\n",
    "\n",
    "str1=\"peter piper picked a peck of pickled peppers\"\n",
    "i=0\n",
    "temp3,temp2,temp=\"\",\"\",\"\"\n",
    "for i in str1:\n",
    "    if i != \" \":\n",
    "        temp=i+temp\n",
    "    else:\n",
    "        #temp2=\" \"+temp\n",
    "        #print(temp2)\n",
    "        temp=\" \"+temp\n",
    "        #print(temp2)\n",
    "        temp2=temp2+temp\n",
    "        temp=\"\"\n",
    "\n",
    "print(temp2, temp)"
   ]
  },
  {
   "cell_type": "code",
   "execution_count": 11,
   "id": "d2f33bf7",
   "metadata": {},
   "outputs": [
    {
     "name": "stdout",
     "output_type": "stream",
     "text": [
      "Peter Piper Picked A Peck Of Pickled Peppers.\n"
     ]
    }
   ],
   "source": [
    "#Q. Write a python program to find below output using loop:-\n",
    "#Input:- 'peter piper picked a peck of pickled peppers.'\n",
    "#Output:- 'Peter Piper Picked A Peck Of Pickled Peppers'\n",
    "\n",
    "\n",
    "str1=\"peter piper picked a peck of pickled peppers.\"\n",
    "i=0\n",
    "temp=\"\"\n",
    "temp2=\"\"\n",
    "for i in str1:\n",
    "    #temp=temp+i.upper()\n",
    "    \n",
    "    if i != ' ':\n",
    "        temp=temp+i\n",
    "    else:\n",
    "        #print(temp[0].upper())\n",
    "        #print(temp[0].upper()+temp[1:]+\" \"+n)\n",
    "        temp2=temp2+temp[0].upper()+temp[1:]+\" \"\n",
    "        temp=\"\"\n",
    "        #temp2=temp[0].upper()+temp[1:]+\" \"+temp2\n",
    "if temp:\n",
    "    temp2=temp2+(temp[0].upper()+temp[1:])\n",
    "        \n",
    "print(temp2)"
   ]
  },
  {
   "cell_type": "code",
   "execution_count": 12,
   "id": "46c531fd",
   "metadata": {},
   "outputs": [
    {
     "name": "stdout",
     "output_type": "stream",
     "text": [
      "Peter piper picked a peck of pickled peppers.\n"
     ]
    }
   ],
   "source": [
    "#Q. Write a python program to find below output using loop:-\n",
    "#Input:- 'Peter Piper Picked A Peck Of Pickled Peppers.'\n",
    "#Output:- 'Peter piper picked a peck of pickled peppers'\n",
    "\n",
    "str1=\"Peter Piper Picked A Peck Of Pickled Peppers.\"\n",
    "i=0\n",
    "temp=\"\"\n",
    "temp2=\"\"\n",
    "for i in str1:\n",
    "    #temp=temp+i.upper()\n",
    "    \n",
    "    if i != ' ':\n",
    "        temp=temp+i\n",
    "    else:\n",
    "\n",
    "        temp2=temp2+temp[0].upper()+temp[1:].lower()\n",
    "        temp=\" \"\n",
    "\n",
    "if temp:\n",
    "    temp2=temp2+(temp[0].upper()+temp[1:].lower())\n",
    "        \n",
    "print(temp2)"
   ]
  },
  {
   "cell_type": "code",
   "execution_count": 13,
   "id": "f98052c3",
   "metadata": {},
   "outputs": [
    {
     "ename": "NameError",
     "evalue": "name 'my_str' is not defined",
     "output_type": "error",
     "traceback": [
      "\u001b[1;31m---------------------------------------------------------------------------\u001b[0m",
      "\u001b[1;31mNameError\u001b[0m                                 Traceback (most recent call last)",
      "\u001b[1;32m~\\AppData\\Local\\Temp\\ipykernel_1656\\1118687449.py\u001b[0m in \u001b[0;36m<module>\u001b[1;34m\u001b[0m\n\u001b[0;32m      9\u001b[0m \u001b[0msub_str\u001b[0m \u001b[1;33m=\u001b[0m \u001b[1;34m\"Pickl\"\u001b[0m\u001b[1;33m\u001b[0m\u001b[1;33m\u001b[0m\u001b[0m\n\u001b[0;32m     10\u001b[0m \u001b[1;33m\u001b[0m\u001b[0m\n\u001b[1;32m---> 11\u001b[1;33m \u001b[1;32mfor\u001b[0m \u001b[0mi\u001b[0m \u001b[1;32min\u001b[0m \u001b[0mrange\u001b[0m\u001b[1;33m(\u001b[0m\u001b[1;36m0\u001b[0m\u001b[1;33m,\u001b[0m\u001b[0mlen\u001b[0m\u001b[1;33m(\u001b[0m\u001b[0mmy_str\u001b[0m\u001b[1;33m)\u001b[0m\u001b[1;33m)\u001b[0m\u001b[1;33m:\u001b[0m\u001b[1;33m\u001b[0m\u001b[1;33m\u001b[0m\u001b[0m\n\u001b[0m\u001b[0;32m     12\u001b[0m     \u001b[1;32mif\u001b[0m \u001b[0mstr1\u001b[0m\u001b[1;33m[\u001b[0m\u001b[0mi\u001b[0m\u001b[1;33m:\u001b[0m\u001b[0mi\u001b[0m\u001b[1;33m+\u001b[0m\u001b[0mlen\u001b[0m\u001b[1;33m(\u001b[0m\u001b[0msub_str\u001b[0m\u001b[1;33m)\u001b[0m\u001b[1;33m]\u001b[0m \u001b[1;33m==\u001b[0m \u001b[0msub_str\u001b[0m\u001b[1;33m:\u001b[0m\u001b[1;33m\u001b[0m\u001b[1;33m\u001b[0m\u001b[0m\n\u001b[0;32m     13\u001b[0m         \u001b[0mprint\u001b[0m\u001b[1;33m(\u001b[0m\u001b[0mi\u001b[0m\u001b[1;33m)\u001b[0m\u001b[1;33m\u001b[0m\u001b[1;33m\u001b[0m\u001b[0m\n",
      "\u001b[1;31mNameError\u001b[0m: name 'my_str' is not defined"
     ]
    }
   ],
   "source": [
    "#Q. Write a python program to implement index method using loop. If\n",
    "#sub_str is found in my_str then it will print the index\n",
    "#of first occurrence of first character of matching string in my_str:-\n",
    "#Input:- my_str = 'Peter Piper Picked A Peck Of Pickled Peppers.',\n",
    "#sub_str = 'Pickl'\n",
    "#Output:- 29\n",
    "\n",
    "str1 = \"Peter Piper Picked A Peck Of Pickled Peppers.\"\n",
    "sub_str = \"Pickl\"\n",
    "\n",
    "for i in range(0,len(my_str)):\n",
    "    if str1[i:i+len(sub_str)] == sub_str:\n",
    "        print(i)"
   ]
  },
  {
   "cell_type": "code",
   "execution_count": null,
   "id": "8731349b",
   "metadata": {},
   "outputs": [],
   "source": [
    "#Q. Write a python program to implement replace method using loop. If\n",
    "#sub_str is found in my_str then it will replace the first\n",
    "#occurrence of sub_str with new_str else it will will print sub_str not\n",
    "#found:-\n",
    "#Input:- my_str = 'Peter Piper Picked A Peck Of Pickled Peppers.',\n",
    "#sub_str = 'Peck', new_str = 'Pack'\n",
    "#Output:- 'Peter Piper Picked A Pack Of Pickled Peppers.'\n",
    "\n",
    "\n",
    "str1 = \"Peter Piper Picked A Peck Of Pickled Peppers.\"\n",
    "sub_str = \"Peck\"\n",
    "new_str = \"Pack\"\n",
    "temp=\"\"\n",
    "for i in range(0,len(my_str)):\n",
    "    if str1[i:i+len(sub_str)] == sub_str:\n",
    "        temp=str1[:i]+new_str+str1[i+len(new_str):]\n",
    "print(temp)"
   ]
  },
  {
   "cell_type": "code",
   "execution_count": null,
   "id": "6905b1a0",
   "metadata": {},
   "outputs": [],
   "source": [
    "#Q. Write a python program to find below output (implements rjust and\n",
    "#ljust) using loop:-\n",
    "#Input:- 'Peter Piper Picked A Peck Of Pickled Peppers.', sub_str =\n",
    "#'Peck',\n",
    "#Output:- '*********************Peck********************'\n",
    "\n",
    "\n",
    "str1 = \"Peter Piper Picked A Peck Of Pickled Peppers.\"\n",
    "sub_str = \"Peck\"\n",
    "temp=\"\"\n",
    "for i in range(0,len(my_str)):\n",
    "    if str1[i:i+len(sub_str)] == sub_str:\n",
    "        #temp=str1[:i]+new_str+str1[i+len(new_str):]\n",
    "        temp='*'*i+sub_str+'*'*(i-len(sub_str))\n",
    "        \n",
    "print(temp)"
   ]
  },
  {
   "cell_type": "code",
   "execution_count": null,
   "id": "91fc34d1",
   "metadata": {},
   "outputs": [],
   "source": [
    "#Q. Write a python program to find below output using loop:-\n",
    "#Input:- 'This is Python class', sep = ' is',\n",
    "#Output:- ['This', 'is', 'Python class']\n",
    "\n",
    "\n",
    "str1=\"This is Python class\"\n",
    "sep=' is'\n",
    "\n",
    "str1 = \"This is Python class\"\n",
    "sep = ' is'\n",
    "ls=[]\n",
    "temp=\"\"\n",
    "for i in range(0,len(my_str)):\n",
    "    if str1[i:i+len(sep)] == sep:\n",
    "        ls.append(str1[:i])\n",
    "        ls.append(sep)\n",
    "        ls.append(str1[i+len(sep):])\n",
    "        print()\n",
    "print(ls)"
   ]
  },
  {
   "cell_type": "code",
   "execution_count": null,
   "id": "aa27baf7",
   "metadata": {},
   "outputs": [],
   "source": []
  }
 ],
 "metadata": {
  "kernelspec": {
   "display_name": "Python 3 (ipykernel)",
   "language": "python",
   "name": "python3"
  },
  "language_info": {
   "codemirror_mode": {
    "name": "ipython",
    "version": 3
   },
   "file_extension": ".py",
   "mimetype": "text/x-python",
   "name": "python",
   "nbconvert_exporter": "python",
   "pygments_lexer": "ipython3",
   "version": "3.9.13"
  }
 },
 "nbformat": 4,
 "nbformat_minor": 5
}
