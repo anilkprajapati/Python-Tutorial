{
 "cells": [
  {
   "cell_type": "markdown",
   "id": "d8e6ea83",
   "metadata": {},
   "source": [
    "# Anil Kumar"
   ]
  },
  {
   "cell_type": "markdown",
   "id": "c8fd153a",
   "metadata": {},
   "source": [
    "Q. Declare an float value and store it in a variable.\n",
    "Check the type and print the id of the same."
   ]
  },
  {
   "cell_type": "code",
   "execution_count": 1,
   "id": "e7bc9549",
   "metadata": {
    "scrolled": true
   },
   "outputs": [
    {
     "name": "stdout",
     "output_type": "stream",
     "text": [
      "<class 'float'>\n"
     ]
    },
    {
     "data": {
      "text/plain": [
       "2347792729744"
      ]
     },
     "execution_count": 1,
     "metadata": {},
     "output_type": "execute_result"
    }
   ],
   "source": [
    "a=10.2\n",
    "print(type(a))\n",
    "id(a)"
   ]
  },
  {
   "cell_type": "markdown",
   "id": "fcba6ba6",
   "metadata": {},
   "source": [
    "Q. Arithmetic Operations on float  \n",
    "Take two different float values.  \n",
    "Store them in two different variables.  \n",
    "Do below operations on them:-  \n",
    "Find sum of both numbers  \n",
    "Find difference between them  \n",
    "Find the product of both numbers.  \n",
    "Find value after dividing first num with second number  \n",
    "Find the remainder after dividing first number with second number  \n",
    "Find the quotient after dividing first number with second number  \n",
    "Find the result of the first num to the power of the second number.  "
   ]
  },
  {
   "cell_type": "code",
   "execution_count": 2,
   "id": "bb26fbd9",
   "metadata": {},
   "outputs": [],
   "source": [
    "# Assign variable\n",
    "a=10.1\n",
    "b=3.2"
   ]
  },
  {
   "cell_type": "code",
   "execution_count": 3,
   "id": "e919975d",
   "metadata": {},
   "outputs": [
    {
     "name": "stdout",
     "output_type": "stream",
     "text": [
      "sum of 10.1 and 3.2 is 13.3\n"
     ]
    }
   ],
   "source": [
    "# Sum\n",
    "c=a+b\n",
    "print(f\"sum of {a} and {b} is {c}\")\n"
   ]
  },
  {
   "cell_type": "code",
   "execution_count": 4,
   "id": "9e121078",
   "metadata": {
    "scrolled": true
   },
   "outputs": [
    {
     "name": "stdout",
     "output_type": "stream",
     "text": [
      "Difference of 10.1 and 3.2 is 6.8999999999999995\n"
     ]
    }
   ],
   "source": [
    "# Diff\n",
    "c=a-b\n",
    "print(f\"Difference of {a} and {b} is {c}\")"
   ]
  },
  {
   "cell_type": "code",
   "execution_count": 5,
   "id": "b68deaed",
   "metadata": {},
   "outputs": [
    {
     "name": "stdout",
     "output_type": "stream",
     "text": [
      "Product of 10.1 and 3.2 is 32.32\n"
     ]
    }
   ],
   "source": [
    "# Product\n",
    "c=a*b\n",
    "print(f\"Product of {a} and {b} is {c}\")"
   ]
  },
  {
   "cell_type": "code",
   "execution_count": 6,
   "id": "a2ba4e00",
   "metadata": {},
   "outputs": [
    {
     "name": "stdout",
     "output_type": "stream",
     "text": [
      "Division of 10.1 by 3.2 is 3.16\n"
     ]
    }
   ],
   "source": [
    "#Division\n",
    "c=a/b\n",
    "print(f\"Division of {a} by {b} is {c:.2f}\")"
   ]
  },
  {
   "cell_type": "code",
   "execution_count": 7,
   "id": "692bc787",
   "metadata": {},
   "outputs": [
    {
     "name": "stdout",
     "output_type": "stream",
     "text": [
      "Remainder of 10.1/3.2 is 0.4999999999999991\n"
     ]
    }
   ],
   "source": [
    "# Remainder\n",
    "c=a%b\n",
    "print(f\"Remainder of {a}/{b} is {c}\")"
   ]
  },
  {
   "cell_type": "code",
   "execution_count": 8,
   "id": "a0a9b00f",
   "metadata": {},
   "outputs": [
    {
     "name": "stdout",
     "output_type": "stream",
     "text": [
      "Quotient of 10.1/3.2 is 3.0\n"
     ]
    }
   ],
   "source": [
    "# Quotient\n",
    "c=a//b\n",
    "print(f\"Quotient of {a}/{b} is {c}\")"
   ]
  },
  {
   "cell_type": "code",
   "execution_count": 9,
   "id": "8d5c481b",
   "metadata": {},
   "outputs": [
    {
     "name": "stdout",
     "output_type": "stream",
     "text": [
      "10.1^3.2 is 1636.1698896672158\n"
     ]
    }
   ],
   "source": [
    "# Power\n",
    "c=a**b\n",
    "print(f\"{a}^{b} is {c}\")"
   ]
  },
  {
   "cell_type": "code",
   "execution_count": null,
   "id": "d297d090",
   "metadata": {},
   "outputs": [],
   "source": []
  },
  {
   "cell_type": "markdown",
   "id": "c4b0f90d",
   "metadata": {},
   "source": [
    "Q. Comparison Operators on float  \n",
    "Take two different float values.  \n",
    "Store them in two different variables.  \n",
    "Do below operations on them:-  \n",
    "Compare se two numbers with below operator:-  \n",
    "Greater than, '>'  \n",
    "Smaller than, '<'  \n",
    "Greater than or equal to, '>='  \n",
    "Less than or equal to, '<='  \n",
    "Observe their output(return type should be boolean)  "
   ]
  },
  {
   "cell_type": "code",
   "execution_count": 18,
   "id": "10a3125a",
   "metadata": {},
   "outputs": [],
   "source": [
    "# Assign variable\n",
    "a=10.5\n",
    "b=3.5"
   ]
  },
  {
   "cell_type": "code",
   "execution_count": 19,
   "id": "17158b83",
   "metadata": {},
   "outputs": [
    {
     "data": {
      "text/plain": [
       "True"
      ]
     },
     "execution_count": 19,
     "metadata": {},
     "output_type": "execute_result"
    }
   ],
   "source": [
    "a>b"
   ]
  },
  {
   "cell_type": "code",
   "execution_count": 20,
   "id": "388dd7ed",
   "metadata": {},
   "outputs": [
    {
     "data": {
      "text/plain": [
       "False"
      ]
     },
     "execution_count": 20,
     "metadata": {},
     "output_type": "execute_result"
    }
   ],
   "source": [
    "a<b"
   ]
  },
  {
   "cell_type": "code",
   "execution_count": 21,
   "id": "e6a4f225",
   "metadata": {},
   "outputs": [
    {
     "data": {
      "text/plain": [
       "True"
      ]
     },
     "execution_count": 21,
     "metadata": {},
     "output_type": "execute_result"
    }
   ],
   "source": [
    "a>=b"
   ]
  },
  {
   "cell_type": "code",
   "execution_count": 22,
   "id": "3d93d7da",
   "metadata": {
    "scrolled": true
   },
   "outputs": [
    {
     "data": {
      "text/plain": [
       "False"
      ]
     },
     "execution_count": 22,
     "metadata": {},
     "output_type": "execute_result"
    }
   ],
   "source": [
    "a<=b"
   ]
  },
  {
   "cell_type": "markdown",
   "id": "9ee3b286",
   "metadata": {},
   "source": [
    "Q. Equality Operator  \n",
    "Take two different float values.   \n",
    "Store them in two different variables.  \n",
    "Equate them using equality operators (==, !=)  \n",
    "Observe the output(return type should be boolean)  "
   ]
  },
  {
   "cell_type": "code",
   "execution_count": 26,
   "id": "a728204e",
   "metadata": {},
   "outputs": [],
   "source": [
    "# Assign variable\n",
    "a=10.1\n",
    "b=3.2"
   ]
  },
  {
   "cell_type": "code",
   "execution_count": 27,
   "id": "1d3d2380",
   "metadata": {},
   "outputs": [
    {
     "data": {
      "text/plain": [
       "False"
      ]
     },
     "execution_count": 27,
     "metadata": {},
     "output_type": "execute_result"
    }
   ],
   "source": [
    "a==b"
   ]
  },
  {
   "cell_type": "code",
   "execution_count": 28,
   "id": "b9342200",
   "metadata": {},
   "outputs": [
    {
     "data": {
      "text/plain": [
       "True"
      ]
     },
     "execution_count": 28,
     "metadata": {},
     "output_type": "execute_result"
    }
   ],
   "source": [
    "a!=b"
   ]
  },
  {
   "cell_type": "markdown",
   "id": "3f741dcb",
   "metadata": {},
   "source": [
    "Q. Logical operators  \n",
    "Observe the output of below code  \n",
    "Cross check the output manually  "
   ]
  },
  {
   "cell_type": "code",
   "execution_count": 29,
   "id": "90d2fc12",
   "metadata": {},
   "outputs": [
    {
     "name": "stdout",
     "output_type": "stream",
     "text": [
      "20.3\n"
     ]
    }
   ],
   "source": [
    "print ( 10.20 and 20.30 )"
   ]
  },
  {
   "cell_type": "code",
   "execution_count": 30,
   "id": "2d33002c",
   "metadata": {},
   "outputs": [
    {
     "name": "stdout",
     "output_type": "stream",
     "text": [
      "0.0\n"
     ]
    }
   ],
   "source": [
    "print ( 0.0 and 20.30 )"
   ]
  },
  {
   "cell_type": "code",
   "execution_count": 31,
   "id": "155e64ae",
   "metadata": {},
   "outputs": [
    {
     "name": "stdout",
     "output_type": "stream",
     "text": [
      "0.0\n"
     ]
    }
   ],
   "source": [
    "print ( 20.30 and 0.0 )"
   ]
  },
  {
   "cell_type": "code",
   "execution_count": 32,
   "id": "8e804281",
   "metadata": {},
   "outputs": [
    {
     "name": "stdout",
     "output_type": "stream",
     "text": [
      "0.0\n"
     ]
    }
   ],
   "source": [
    "print ( 0.0 and 0.0 )"
   ]
  },
  {
   "cell_type": "code",
   "execution_count": 33,
   "id": "20c8607a",
   "metadata": {},
   "outputs": [
    {
     "name": "stdout",
     "output_type": "stream",
     "text": [
      "10.2\n"
     ]
    }
   ],
   "source": [
    "print ( 10.20 or 20.30 )"
   ]
  },
  {
   "cell_type": "code",
   "execution_count": 34,
   "id": "67434b19",
   "metadata": {},
   "outputs": [
    {
     "name": "stdout",
     "output_type": "stream",
     "text": [
      "20.3\n"
     ]
    }
   ],
   "source": [
    "print ( 0.0 or 20.30 )"
   ]
  },
  {
   "cell_type": "code",
   "execution_count": 35,
   "id": "f437c116",
   "metadata": {},
   "outputs": [
    {
     "name": "stdout",
     "output_type": "stream",
     "text": [
      "20.3\n"
     ]
    }
   ],
   "source": [
    "print ( 20.30 or 0.0 )"
   ]
  },
  {
   "cell_type": "code",
   "execution_count": 36,
   "id": "a669a750",
   "metadata": {},
   "outputs": [
    {
     "name": "stdout",
     "output_type": "stream",
     "text": [
      "0.0\n"
     ]
    }
   ],
   "source": [
    "print ( 0.0 or 0.0 )"
   ]
  },
  {
   "cell_type": "code",
   "execution_count": 37,
   "id": "c3107d47",
   "metadata": {},
   "outputs": [
    {
     "name": "stdout",
     "output_type": "stream",
     "text": [
      "False\n"
     ]
    }
   ],
   "source": [
    "print ( not 10.20 )"
   ]
  },
  {
   "cell_type": "code",
   "execution_count": 38,
   "id": "18614d34",
   "metadata": {},
   "outputs": [
    {
     "name": "stdout",
     "output_type": "stream",
     "text": [
      "True\n"
     ]
    }
   ],
   "source": [
    "print ( not 0.0 )"
   ]
  },
  {
   "cell_type": "markdown",
   "id": "052e726e",
   "metadata": {},
   "source": [
    "Q. What is the output of expression inside print statement. Cross check\n",
    "before running the program.  \n",
    "a = 10.20  \n",
    "b = 10.20  \n",
    "print (a is b) #True or False? True 10.20<256  \n",
    "print (a is not b) #True or False? False  \n",
    "Why the Id of float values are different when the same value is\n",
    "assigned to two different variables  \n",
    "ex: a = 10.5 b=10.5. but id will be same if I assign the variable  \n",
    "having float i.e. a=c then both a and c's Id are same"
   ]
  },
  {
   "cell_type": "code",
   "execution_count": null,
   "id": "4bdf0294",
   "metadata": {},
   "outputs": [],
   "source": [
    "a = 10.20\n",
    "b - 10.20"
   ]
  },
  {
   "cell_type": "code",
   "execution_count": 39,
   "id": "c6ec6f04",
   "metadata": {},
   "outputs": [
    {
     "name": "stdout",
     "output_type": "stream",
     "text": [
      "False\n"
     ]
    }
   ],
   "source": [
    "print(a is b)"
   ]
  },
  {
   "cell_type": "code",
   "execution_count": 40,
   "id": "cb38e1c0",
   "metadata": {},
   "outputs": [
    {
     "name": "stdout",
     "output_type": "stream",
     "text": [
      "True\n"
     ]
    }
   ],
   "source": [
    "print(a is not b)"
   ]
  },
  {
   "cell_type": "code",
   "execution_count": 41,
   "id": "881a6161",
   "metadata": {},
   "outputs": [
    {
     "data": {
      "text/plain": [
       "2347793108208"
      ]
     },
     "execution_count": 41,
     "metadata": {},
     "output_type": "execute_result"
    }
   ],
   "source": [
    "id(a)"
   ]
  },
  {
   "cell_type": "code",
   "execution_count": 42,
   "id": "5c9eac86",
   "metadata": {},
   "outputs": [
    {
     "data": {
      "text/plain": [
       "2347793108880"
      ]
     },
     "execution_count": 42,
     "metadata": {},
     "output_type": "execute_result"
    }
   ],
   "source": [
    "id(b)"
   ]
  },
  {
   "cell_type": "code",
   "execution_count": 45,
   "id": "4f10c596",
   "metadata": {},
   "outputs": [],
   "source": [
    "# Id of float number is different because there can be infinite number possible between -5 to 256, \n",
    "# so storing them previously is not possible"
   ]
  },
  {
   "cell_type": "code",
   "execution_count": null,
   "id": "8c841fcd",
   "metadata": {},
   "outputs": [],
   "source": []
  },
  {
   "cell_type": "markdown",
   "id": "0e02dea0",
   "metadata": {},
   "source": [
    "Q. Bitwise operation is not applicable between instances of float.\n",
    "Why the Id of float values are different when the same value is\n",
    "assigned to two different variables\n",
    "ex: a = 10.5 b=10.5. but id will be same if I assign the variable\n",
    "having float i.e. a=c then both a and c's Id are same\n",
    "Object reusability concept is not applicable on float values."
   ]
  },
  {
   "cell_type": "code",
   "execution_count": null,
   "id": "41764944",
   "metadata": {},
   "outputs": [],
   "source": [
    "# The id is same when a=c because both variable is pointing same memory location"
   ]
  },
  {
   "cell_type": "markdown",
   "id": "08ea8c94",
   "metadata": {},
   "source": [
    "Q. Membership operation  \n",
    "in, not in are two membership operators and it returns boolean value"
   ]
  },
  {
   "cell_type": "code",
   "execution_count": 46,
   "id": "ec1f24c8",
   "metadata": {},
   "outputs": [
    {
     "name": "stdout",
     "output_type": "stream",
     "text": [
      "True\n",
      "True\n",
      "True\n",
      "True\n",
      "True\n",
      "True\n"
     ]
    }
   ],
   "source": [
    "print ( '2.7' in 'Python2.7.8' ) #True\n",
    "print ( 10.20 in [ 10 , 10.20 , 10 + 20j , 'Python' ]) #True\n",
    "print ( 10.20 in ( 10 , 10.20 , 10 + 20j , 'Python' )) # True\n",
    "print ( 20.30 in { 1 , 20.30 , 30 + 40j }) # True\n",
    "print ( 2.3 in { 1 : 100 , 2.3 : 200 , 30 + 40j : 300 }) # True\n",
    "print ( 10 in range ( 20 )) # True"
   ]
  }
 ],
 "metadata": {
  "kernelspec": {
   "display_name": "Python 3 (ipykernel)",
   "language": "python",
   "name": "python3"
  },
  "language_info": {
   "codemirror_mode": {
    "name": "ipython",
    "version": 3
   },
   "file_extension": ".py",
   "mimetype": "text/x-python",
   "name": "python",
   "nbconvert_exporter": "python",
   "pygments_lexer": "ipython3",
   "version": "3.9.13"
  }
 },
 "nbformat": 4,
 "nbformat_minor": 5
}
