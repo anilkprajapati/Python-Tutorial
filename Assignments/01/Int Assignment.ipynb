{
 "cells": [
  {
   "cell_type": "markdown",
   "id": "1ac49835",
   "metadata": {},
   "source": [
    "# Anil Kumar"
   ]
  },
  {
   "cell_type": "markdown",
   "id": "c8fd153a",
   "metadata": {},
   "source": [
    "Q. Declare an int value and store it in a variable.\n",
    "Check the type and print the id of the same."
   ]
  },
  {
   "cell_type": "code",
   "execution_count": 1,
   "id": "e7bc9549",
   "metadata": {
    "scrolled": true
   },
   "outputs": [
    {
     "name": "stdout",
     "output_type": "stream",
     "text": [
      "<class 'int'>\n"
     ]
    },
    {
     "data": {
      "text/plain": [
       "2344463854160"
      ]
     },
     "execution_count": 1,
     "metadata": {},
     "output_type": "execute_result"
    }
   ],
   "source": [
    "a=10\n",
    "print(type(a))\n",
    "id(a)"
   ]
  },
  {
   "cell_type": "code",
   "execution_count": null,
   "id": "60f41b5f",
   "metadata": {},
   "outputs": [],
   "source": []
  },
  {
   "cell_type": "markdown",
   "id": "1e12927a",
   "metadata": {},
   "source": [
    "Q. Take one int value between 0 - 256.\n",
    "Assign it to two different variables.\n",
    "Check the id of both the variables. It should come the same. Check why?"
   ]
  },
  {
   "cell_type": "code",
   "execution_count": 2,
   "id": "fe7f558a",
   "metadata": {},
   "outputs": [
    {
     "data": {
      "text/plain": [
       "2344463854160"
      ]
     },
     "execution_count": 2,
     "metadata": {},
     "output_type": "execute_result"
    }
   ],
   "source": [
    "a=10\n",
    "id(a)"
   ]
  },
  {
   "cell_type": "code",
   "execution_count": 3,
   "id": "c99763e0",
   "metadata": {},
   "outputs": [
    {
     "data": {
      "text/plain": [
       "2344463854160"
      ]
     },
     "execution_count": 3,
     "metadata": {},
     "output_type": "execute_result"
    }
   ],
   "source": [
    "b=10\n",
    "id(b)"
   ]
  },
  {
   "cell_type": "code",
   "execution_count": null,
   "id": "3a548dd3",
   "metadata": {},
   "outputs": [],
   "source": [
    "# Yes the value is same for a and b bcz it is between -5 to 256"
   ]
  },
  {
   "cell_type": "code",
   "execution_count": null,
   "id": "e902da99",
   "metadata": {},
   "outputs": [],
   "source": []
  },
  {
   "cell_type": "code",
   "execution_count": null,
   "id": "de9b2284",
   "metadata": {},
   "outputs": [],
   "source": []
  },
  {
   "cell_type": "markdown",
   "id": "1746a89e",
   "metadata": {},
   "source": [
    "Q. Take one int value either less than -5 or greater than 256.\n",
    "Assign it to two different variables.\n",
    "Check the id of both the variables. It should come different.Check why?"
   ]
  },
  {
   "cell_type": "code",
   "execution_count": 5,
   "id": "fbd1ada5",
   "metadata": {},
   "outputs": [
    {
     "data": {
      "text/plain": [
       "2344547110320"
      ]
     },
     "execution_count": 5,
     "metadata": {},
     "output_type": "execute_result"
    }
   ],
   "source": [
    "a=1000\n",
    "id(a)"
   ]
  },
  {
   "cell_type": "code",
   "execution_count": 4,
   "id": "2a5b1a7b",
   "metadata": {
    "scrolled": true
   },
   "outputs": [
    {
     "data": {
      "text/plain": [
       "2344547108496"
      ]
     },
     "execution_count": 4,
     "metadata": {},
     "output_type": "execute_result"
    }
   ],
   "source": [
    "b=1000\n",
    "id(b)"
   ]
  },
  {
   "cell_type": "code",
   "execution_count": null,
   "id": "1743889b",
   "metadata": {},
   "outputs": [],
   "source": [
    "# Yes the id value is different for a and b bcz it is not between -5 to 256"
   ]
  },
  {
   "cell_type": "code",
   "execution_count": null,
   "id": "2e04db50",
   "metadata": {},
   "outputs": [],
   "source": []
  },
  {
   "cell_type": "markdown",
   "id": "fcba6ba6",
   "metadata": {},
   "source": [
    "Q. Arithmetic Operations on integers  \n",
    "Take two different integer values.  \n",
    "Store them in two different variables.  \n",
    "Do below operations on them:-  \n",
    "Find sum of both numbers  \n",
    "Find difference between them  \n",
    "Find the product of both numbers.  \n",
    "Find value after dividing first num with second number  \n",
    "Find the remainder after dividing first number with second number  \n",
    "Find the quotient after dividing first number with second number  \n",
    "Find the result of the first num to the power of the second number.  "
   ]
  },
  {
   "cell_type": "code",
   "execution_count": 8,
   "id": "bb26fbd9",
   "metadata": {},
   "outputs": [],
   "source": [
    "# Assign variable\n",
    "a=10\n",
    "b=3"
   ]
  },
  {
   "cell_type": "code",
   "execution_count": 9,
   "id": "e919975d",
   "metadata": {},
   "outputs": [
    {
     "name": "stdout",
     "output_type": "stream",
     "text": [
      "sum of 10 and 3 is 13\n"
     ]
    }
   ],
   "source": [
    "# Sum\n",
    "c=a+b\n",
    "print(f\"sum of {a} and {b} is {c}\")\n"
   ]
  },
  {
   "cell_type": "code",
   "execution_count": 10,
   "id": "9e121078",
   "metadata": {
    "scrolled": true
   },
   "outputs": [
    {
     "name": "stdout",
     "output_type": "stream",
     "text": [
      "Difference of 10 and 3 is 7\n"
     ]
    }
   ],
   "source": [
    "# Diff\n",
    "c=a-b\n",
    "print(f\"Difference of {a} and {b} is {c}\")"
   ]
  },
  {
   "cell_type": "code",
   "execution_count": 18,
   "id": "b68deaed",
   "metadata": {},
   "outputs": [
    {
     "name": "stdout",
     "output_type": "stream",
     "text": [
      "Product of 10 and 3 is 30\n"
     ]
    }
   ],
   "source": [
    "# Product\n",
    "c=a*b\n",
    "print(f\"Product of {a} and {b} is {c}\")"
   ]
  },
  {
   "cell_type": "code",
   "execution_count": 19,
   "id": "a2ba4e00",
   "metadata": {},
   "outputs": [
    {
     "name": "stdout",
     "output_type": "stream",
     "text": [
      "Division of 10 by 3 is 3.33\n"
     ]
    }
   ],
   "source": [
    "#Division\n",
    "c=a/b\n",
    "print(f\"Division of {a} by {b} is {c:.2f}\")"
   ]
  },
  {
   "cell_type": "code",
   "execution_count": 22,
   "id": "692bc787",
   "metadata": {},
   "outputs": [
    {
     "name": "stdout",
     "output_type": "stream",
     "text": [
      "Remainder of 10/3 is 1.00\n"
     ]
    }
   ],
   "source": [
    "# Remainder\n",
    "c=a%b\n",
    "print(f\"Remainder of {a}/{b} is {c}\")"
   ]
  },
  {
   "cell_type": "code",
   "execution_count": 23,
   "id": "a0a9b00f",
   "metadata": {},
   "outputs": [
    {
     "name": "stdout",
     "output_type": "stream",
     "text": [
      "Quotient of 10/3 is 3.00\n"
     ]
    }
   ],
   "source": [
    "# Quotient\n",
    "c=a//b\n",
    "print(f\"Quotient of {a}/{b} is {c}\")"
   ]
  },
  {
   "cell_type": "code",
   "execution_count": 24,
   "id": "8d5c481b",
   "metadata": {},
   "outputs": [
    {
     "name": "stdout",
     "output_type": "stream",
     "text": [
      "10^3 is 1000\n"
     ]
    }
   ],
   "source": [
    "# Power\n",
    "c=a**b\n",
    "print(f\"{a}^{b} is {c}\")"
   ]
  },
  {
   "cell_type": "code",
   "execution_count": null,
   "id": "d297d090",
   "metadata": {},
   "outputs": [],
   "source": []
  },
  {
   "cell_type": "markdown",
   "id": "c4b0f90d",
   "metadata": {},
   "source": [
    "Q. Comparison Operators on integers  \n",
    "Take two different integer values.  \n",
    "Store them in two different variables.  \n",
    "Do below operations on them:-  \n",
    "Compare se two numbers with below operator:-  \n",
    "Greater than, '>'  \n",
    "Smaller than, '<'  \n",
    "Greater than or equal to, '>='  \n",
    "Less than or equal to, '<='  \n",
    "Observe their output(return type should be boolean)  "
   ]
  },
  {
   "cell_type": "code",
   "execution_count": 25,
   "id": "10a3125a",
   "metadata": {},
   "outputs": [],
   "source": [
    "# Assign variable\n",
    "a=10\n",
    "b=3"
   ]
  },
  {
   "cell_type": "code",
   "execution_count": 27,
   "id": "17158b83",
   "metadata": {},
   "outputs": [
    {
     "data": {
      "text/plain": [
       "True"
      ]
     },
     "execution_count": 27,
     "metadata": {},
     "output_type": "execute_result"
    }
   ],
   "source": [
    "a>b"
   ]
  },
  {
   "cell_type": "code",
   "execution_count": 28,
   "id": "388dd7ed",
   "metadata": {},
   "outputs": [
    {
     "data": {
      "text/plain": [
       "False"
      ]
     },
     "execution_count": 28,
     "metadata": {},
     "output_type": "execute_result"
    }
   ],
   "source": [
    "a<b"
   ]
  },
  {
   "cell_type": "code",
   "execution_count": 30,
   "id": "e6a4f225",
   "metadata": {},
   "outputs": [
    {
     "data": {
      "text/plain": [
       "True"
      ]
     },
     "execution_count": 30,
     "metadata": {},
     "output_type": "execute_result"
    }
   ],
   "source": [
    "a>=b"
   ]
  },
  {
   "cell_type": "code",
   "execution_count": 31,
   "id": "3d93d7da",
   "metadata": {
    "scrolled": true
   },
   "outputs": [
    {
     "data": {
      "text/plain": [
       "False"
      ]
     },
     "execution_count": 31,
     "metadata": {},
     "output_type": "execute_result"
    }
   ],
   "source": [
    "a<=b"
   ]
  },
  {
   "cell_type": "markdown",
   "id": "9ee3b286",
   "metadata": {},
   "source": [
    "Q. Equality Operator\n",
    "Take two different integer values.\n",
    "Store them in two different variables.\n",
    "Equate them using equality operators (==, !=)\n",
    "Observe the output(return type should be boolean)"
   ]
  },
  {
   "cell_type": "code",
   "execution_count": 32,
   "id": "a728204e",
   "metadata": {},
   "outputs": [],
   "source": [
    "# Assign variable\n",
    "a=10\n",
    "b=3"
   ]
  },
  {
   "cell_type": "code",
   "execution_count": 33,
   "id": "1d3d2380",
   "metadata": {},
   "outputs": [
    {
     "data": {
      "text/plain": [
       "False"
      ]
     },
     "execution_count": 33,
     "metadata": {},
     "output_type": "execute_result"
    }
   ],
   "source": [
    "a==b"
   ]
  },
  {
   "cell_type": "code",
   "execution_count": 34,
   "id": "b9342200",
   "metadata": {},
   "outputs": [
    {
     "data": {
      "text/plain": [
       "True"
      ]
     },
     "execution_count": 34,
     "metadata": {},
     "output_type": "execute_result"
    }
   ],
   "source": [
    "a!=b"
   ]
  },
  {
   "cell_type": "markdown",
   "id": "29426c53",
   "metadata": {},
   "source": [
    "Q. Logical operators  \n",
    "Observe the output of below code  \n",
    "Cross check the output manually  \n",
    "```\n",
    "print ( 10 and 20 )    \n",
    "#----------------------------------------->Output is 20  \n",
    "print ( 0 and 20 )  \n",
    "#----------------------------------------->Output is 0  \n",
    "print ( 20 and 0 )  \n",
    "#----------------------------------------->Output is 0  \n",
    "print ( 0 and 0 )\n",
    "#----------------------------------------->Output is 0  \n",
    "print ( 10 or 20 )  \n",
    "#----------------------------------------->Output is 10  \n",
    "print ( 0 or 20 )  \n",
    "#----------------------------------------->Output is 20  \n",
    "print ( 20 or 0 )  \n",
    "#----------------------------------------->Output is 20  \n",
    "print ( 0 or 0 )  \n",
    "#----------------------------------------->Output is 0  \n",
    "print ( not 10 )  \n",
    "#----------------------------------------->Output is False  \n",
    "print ( not 0 )  \n",
    "#----------------------------------------->Output is True\n",
    "```"
   ]
  },
  {
   "cell_type": "code",
   "execution_count": null,
   "id": "88078311",
   "metadata": {},
   "outputs": [],
   "source": []
  },
  {
   "cell_type": "code",
   "execution_count": 37,
   "id": "8df8dbb5",
   "metadata": {},
   "outputs": [
    {
     "name": "stdout",
     "output_type": "stream",
     "text": [
      "20\n"
     ]
    }
   ],
   "source": [
    "print ( 10 and 20 )"
   ]
  },
  {
   "cell_type": "code",
   "execution_count": 38,
   "id": "1bb057ec",
   "metadata": {},
   "outputs": [
    {
     "name": "stdout",
     "output_type": "stream",
     "text": [
      "0\n"
     ]
    }
   ],
   "source": [
    "print ( 0 and 20 )"
   ]
  },
  {
   "cell_type": "code",
   "execution_count": 39,
   "id": "740c6dd1",
   "metadata": {},
   "outputs": [
    {
     "name": "stdout",
     "output_type": "stream",
     "text": [
      "0\n"
     ]
    }
   ],
   "source": [
    "print ( 20 and 0 )"
   ]
  },
  {
   "cell_type": "code",
   "execution_count": 40,
   "id": "d6d69e93",
   "metadata": {},
   "outputs": [
    {
     "name": "stdout",
     "output_type": "stream",
     "text": [
      "0\n"
     ]
    }
   ],
   "source": [
    "print ( 0 and 0 )"
   ]
  },
  {
   "cell_type": "code",
   "execution_count": 41,
   "id": "cdb5c9fc",
   "metadata": {},
   "outputs": [
    {
     "name": "stdout",
     "output_type": "stream",
     "text": [
      "10\n"
     ]
    }
   ],
   "source": [
    "print ( 10 or 20 )"
   ]
  },
  {
   "cell_type": "code",
   "execution_count": 42,
   "id": "408f0dec",
   "metadata": {},
   "outputs": [
    {
     "name": "stdout",
     "output_type": "stream",
     "text": [
      "20\n"
     ]
    }
   ],
   "source": [
    "print ( 0 or 20 ) "
   ]
  },
  {
   "cell_type": "code",
   "execution_count": 43,
   "id": "e6cd543c",
   "metadata": {},
   "outputs": [
    {
     "name": "stdout",
     "output_type": "stream",
     "text": [
      "20\n"
     ]
    }
   ],
   "source": [
    "print ( 20 or 0 )"
   ]
  },
  {
   "cell_type": "code",
   "execution_count": 44,
   "id": "4774fcf8",
   "metadata": {},
   "outputs": [
    {
     "name": "stdout",
     "output_type": "stream",
     "text": [
      "0\n"
     ]
    }
   ],
   "source": [
    "print ( 0 or 0 ) "
   ]
  },
  {
   "cell_type": "code",
   "execution_count": 45,
   "id": "db5ece6a",
   "metadata": {},
   "outputs": [
    {
     "name": "stdout",
     "output_type": "stream",
     "text": [
      "False\n"
     ]
    }
   ],
   "source": [
    "print ( not 10 ) "
   ]
  },
  {
   "cell_type": "code",
   "execution_count": 46,
   "id": "b089ad19",
   "metadata": {},
   "outputs": [
    {
     "name": "stdout",
     "output_type": "stream",
     "text": [
      "True\n"
     ]
    }
   ],
   "source": [
    "print ( not 0 )"
   ]
  },
  {
   "cell_type": "code",
   "execution_count": null,
   "id": "399c8cf9",
   "metadata": {},
   "outputs": [],
   "source": []
  },
  {
   "cell_type": "code",
   "execution_count": null,
   "id": "b6a739bc",
   "metadata": {},
   "outputs": [],
   "source": []
  },
  {
   "cell_type": "markdown",
   "id": "2c9c9445",
   "metadata": {},
   "source": [
    "Q. Bitwise Operators  \n",
    "Do below operations on the values provided below:-  \n",
    "Bitwise and(&) -----------------------------------------> 10, 20  \n",
    "-------> Output is 0  \n",
    "Bitwise or(|) -----------------------------------------> 10, 20  \n",
    "-------> Output is 30  \n",
    "Bitwise(^) -----------------------------------------> 10, 20  \n",
    "-------> Output is 30  \n",
    "Bitwise negation(~) ------------------------------------> 10  \n",
    "-------> Output is -11  \n",
    "Bitwise left shift ------------------------------------> 10,2  \n",
    "-------> Output is 40  \n",
    "Bitwise right shift ------------------------------------> 10,2  \n",
    "-------> Output is 2  \n",
    "Cross check the output manually  "
   ]
  },
  {
   "cell_type": "code",
   "execution_count": 49,
   "id": "ceabb02a",
   "metadata": {},
   "outputs": [
    {
     "data": {
      "text/plain": [
       "0"
      ]
     },
     "execution_count": 49,
     "metadata": {},
     "output_type": "execute_result"
    }
   ],
   "source": [
    "10 & 20\n",
    "\n"
   ]
  },
  {
   "cell_type": "code",
   "execution_count": 53,
   "id": "fc9043f3",
   "metadata": {},
   "outputs": [
    {
     "name": "stdout",
     "output_type": "stream",
     "text": [
      "0b1010\n",
      "0b10100\n"
     ]
    },
    {
     "data": {
      "text/plain": [
       "0"
      ]
     },
     "execution_count": 53,
     "metadata": {},
     "output_type": "execute_result"
    }
   ],
   "source": [
    "print(bin(10))\n",
    "print(bin(20))\n",
    "0b1010 & 0b10100"
   ]
  },
  {
   "cell_type": "code",
   "execution_count": 54,
   "id": "b0100c54",
   "metadata": {},
   "outputs": [
    {
     "data": {
      "text/plain": [
       "30"
      ]
     },
     "execution_count": 54,
     "metadata": {},
     "output_type": "execute_result"
    }
   ],
   "source": [
    "10|20"
   ]
  },
  {
   "cell_type": "code",
   "execution_count": 55,
   "id": "3b623ea1",
   "metadata": {},
   "outputs": [
    {
     "data": {
      "text/plain": [
       "30"
      ]
     },
     "execution_count": 55,
     "metadata": {},
     "output_type": "execute_result"
    }
   ],
   "source": [
    "10^20"
   ]
  },
  {
   "cell_type": "code",
   "execution_count": 58,
   "id": "c14e718a",
   "metadata": {},
   "outputs": [
    {
     "data": {
      "text/plain": [
       "-11"
      ]
     },
     "execution_count": 58,
     "metadata": {},
     "output_type": "execute_result"
    }
   ],
   "source": [
    "~10"
   ]
  },
  {
   "cell_type": "code",
   "execution_count": 59,
   "id": "ecd89d01",
   "metadata": {},
   "outputs": [
    {
     "data": {
      "text/plain": [
       "40"
      ]
     },
     "execution_count": 59,
     "metadata": {},
     "output_type": "execute_result"
    }
   ],
   "source": [
    "10<<2"
   ]
  },
  {
   "cell_type": "code",
   "execution_count": 62,
   "id": "a256d7d4",
   "metadata": {},
   "outputs": [
    {
     "data": {
      "text/plain": [
       "2"
      ]
     },
     "execution_count": 62,
     "metadata": {},
     "output_type": "execute_result"
    }
   ],
   "source": [
    "10>>2"
   ]
  },
  {
   "cell_type": "code",
   "execution_count": null,
   "id": "77a8087e",
   "metadata": {},
   "outputs": [],
   "source": []
  },
  {
   "cell_type": "code",
   "execution_count": null,
   "id": "d2893778",
   "metadata": {},
   "outputs": [],
   "source": []
  },
  {
   "cell_type": "markdown",
   "id": "3b676bf8",
   "metadata": {},
   "source": [
    "Q. What is the output of expression inside print statement. Cross check\n",
    "before running the program.  \n",
    "a = 10  \n",
    "b = 10  \n",
    "print(a is b) #True or False?  \n",
    "print(a is not b) #True or False?  \n",
    "a = 1000  \n",
    "b = 1000  \n",
    "print(a is b) #True or False?  \n",
    "print(a is not b) #True or False?  "
   ]
  },
  {
   "cell_type": "code",
   "execution_count": 63,
   "id": "6ba7f98b",
   "metadata": {},
   "outputs": [
    {
     "name": "stdout",
     "output_type": "stream",
     "text": [
      "True\n"
     ]
    }
   ],
   "source": [
    "a = 10\n",
    "b = 10\n",
    "print(a is b)"
   ]
  },
  {
   "cell_type": "code",
   "execution_count": 64,
   "id": "f56bf9ea",
   "metadata": {},
   "outputs": [
    {
     "name": "stdout",
     "output_type": "stream",
     "text": [
      "False\n"
     ]
    }
   ],
   "source": [
    "print(a is not b)"
   ]
  },
  {
   "cell_type": "code",
   "execution_count": 70,
   "id": "e3d6896b",
   "metadata": {},
   "outputs": [
    {
     "name": "stdout",
     "output_type": "stream",
     "text": [
      "False\n"
     ]
    }
   ],
   "source": [
    "a = 1000\n",
    "b = 1000\n",
    "print(a is b)"
   ]
  },
  {
   "cell_type": "code",
   "execution_count": 71,
   "id": "e67d1cad",
   "metadata": {},
   "outputs": [
    {
     "name": "stdout",
     "output_type": "stream",
     "text": [
      "True\n"
     ]
    }
   ],
   "source": [
    "print(a is not b)"
   ]
  },
  {
   "cell_type": "markdown",
   "id": "5dcd3064",
   "metadata": {},
   "source": [
    "Q. What is the output of expression inside print statement. Cross check\n",
    "before running the program.  \n",
    "```\n",
    "   print( 10 +( 10 * 32 )// 2 ** 5 & 20 +(~( -10 ))<< 2 )\n",
    "```"
   ]
  },
  {
   "cell_type": "code",
   "execution_count": 72,
   "id": "c18209f8",
   "metadata": {},
   "outputs": [
    {
     "name": "stdout",
     "output_type": "stream",
     "text": [
      "20\n"
     ]
    }
   ],
   "source": [
    "print( 10 +( 10 * 32 )// 2 ** 5 & 20 +(~( -10 ))<< 2 )"
   ]
  },
  {
   "cell_type": "markdown",
   "id": "ac89f012",
   "metadata": {},
   "source": [
    "Q. Membership operation  \n",
    "```pyhton\n",
    "in, not in are two membership operators and it returns boolean value\n",
    "```\n"
   ]
  },
  {
   "cell_type": "code",
   "execution_count": 74,
   "id": "8b2546d0",
   "metadata": {},
   "outputs": [
    {
     "name": "stdout",
     "output_type": "stream",
     "text": [
      "True\n",
      "True\n",
      "True\n",
      "True\n",
      "True\n",
      "True\n"
     ]
    }
   ],
   "source": [
    "print ( '2' in 'Python2.7.8' )\n",
    "print ( 10 in [ 10 , 10.20 , 10 + 20j , 'Python' ])\n",
    "print ( 10 in ( 10 , 10.20 , 10 + 20j , 'Python' ))\n",
    "print ( 2 in { 1 , 2 , 3 })\n",
    "print ( 3 in { 1 : 100 , 2 : 200 , 3 : 300 })\n",
    "print ( 10 in range ( 20 ))"
   ]
  },
  {
   "cell_type": "code",
   "execution_count": null,
   "id": "3a3f4d50",
   "metadata": {},
   "outputs": [],
   "source": []
  },
  {
   "cell_type": "markdown",
   "id": "0f41ee1e",
   "metadata": {},
   "source": [
    "Q. An integer can be represented in binary, octal or hexadecimal form.\n",
    "Declare one binary, one octal and one hexadecimal value and store them\n",
    "in three different variables.  \n",
    "Convert 9876 to its binary, octal and hexadecimal equivalent and print\n",
    "their corresponding value."
   ]
  },
  {
   "cell_type": "code",
   "execution_count": 79,
   "id": "b8e7d187",
   "metadata": {},
   "outputs": [
    {
     "name": "stdout",
     "output_type": "stream",
     "text": [
      "10\n",
      "8\n",
      "10\n"
     ]
    }
   ],
   "source": [
    "a=0b1010\n",
    "print(a)\n",
    "b=0o10\n",
    "print(b)\n",
    "c=0xA\n",
    "print(c)"
   ]
  },
  {
   "cell_type": "code",
   "execution_count": 85,
   "id": "9d8c46a1",
   "metadata": {},
   "outputs": [
    {
     "name": "stdout",
     "output_type": "stream",
     "text": [
      "binary of 9876= 0b10011010010100\n",
      "octal of 9876= 0o23224\n",
      "Hex of 9876= 0x2694\n"
     ]
    }
   ],
   "source": [
    "a=9876\n",
    "b=bin(9876)\n",
    "print('binary of 9876=',b)\n",
    "c=oct(9876)\n",
    "print('octal of 9876=',c)\n",
    "d=hex(9876)\n",
    "print('Hex of 9876=',d)"
   ]
  },
  {
   "cell_type": "code",
   "execution_count": null,
   "id": "d6e88a2b",
   "metadata": {},
   "outputs": [],
   "source": []
  },
  {
   "cell_type": "markdown",
   "id": "235c880e",
   "metadata": {},
   "source": [
    "Q. What will be the output of following:-"
   ]
  },
  {
   "cell_type": "code",
   "execution_count": 87,
   "id": "20926851",
   "metadata": {},
   "outputs": [
    {
     "name": "stdout",
     "output_type": "stream",
     "text": [
      "80\n"
     ]
    }
   ],
   "source": [
    "a = 0b1010000\n",
    "print (a)"
   ]
  },
  {
   "cell_type": "code",
   "execution_count": 88,
   "id": "2099c7b1",
   "metadata": {},
   "outputs": [
    {
     "name": "stdout",
     "output_type": "stream",
     "text": [
      "3870\n"
     ]
    }
   ],
   "source": [
    "b = 0o7436\n",
    "print(b)"
   ]
  },
  {
   "cell_type": "code",
   "execution_count": 89,
   "id": "27c5d387",
   "metadata": {},
   "outputs": [
    {
     "name": "stdout",
     "output_type": "stream",
     "text": [
      "64222\n"
     ]
    }
   ],
   "source": [
    "c = 0xfade\n",
    "print(c)"
   ]
  },
  {
   "cell_type": "code",
   "execution_count": 90,
   "id": "cf34a1ea",
   "metadata": {},
   "outputs": [
    {
     "name": "stdout",
     "output_type": "stream",
     "text": [
      "0b1010000\n"
     ]
    }
   ],
   "source": [
    "print ( bin ( 80 ))"
   ]
  },
  {
   "cell_type": "code",
   "execution_count": 91,
   "id": "df3a7cee",
   "metadata": {},
   "outputs": [
    {
     "name": "stdout",
     "output_type": "stream",
     "text": [
      "0o7436\n"
     ]
    }
   ],
   "source": [
    "print ( oct ( 3870 ))"
   ]
  },
  {
   "cell_type": "code",
   "execution_count": 92,
   "id": "b1eb95c8",
   "metadata": {},
   "outputs": [
    {
     "name": "stdout",
     "output_type": "stream",
     "text": [
      "0xfade\n"
     ]
    }
   ],
   "source": [
    "print ( hex ( 64222 ))\n"
   ]
  },
  {
   "cell_type": "code",
   "execution_count": 94,
   "id": "800af82c",
   "metadata": {},
   "outputs": [
    {
     "name": "stdout",
     "output_type": "stream",
     "text": [
      "0b1010000\n"
     ]
    }
   ],
   "source": [
    "print ( bin ( 0b1010000))"
   ]
  },
  {
   "cell_type": "code",
   "execution_count": 95,
   "id": "98b463c6",
   "metadata": {},
   "outputs": [
    {
     "name": "stdout",
     "output_type": "stream",
     "text": [
      "0b1111101011011110\n"
     ]
    }
   ],
   "source": [
    "print ( bin ( 0xfade ))"
   ]
  },
  {
   "cell_type": "code",
   "execution_count": 96,
   "id": "d73c0b42",
   "metadata": {},
   "outputs": [
    {
     "name": "stdout",
     "output_type": "stream",
     "text": [
      "0o175336\n"
     ]
    }
   ],
   "source": [
    "print ( oct ( 0xfade ))"
   ]
  },
  {
   "cell_type": "code",
   "execution_count": 97,
   "id": "d43ab47a",
   "metadata": {},
   "outputs": [
    {
     "name": "stdout",
     "output_type": "stream",
     "text": [
      "0o7436\n"
     ]
    }
   ],
   "source": [
    "print ( oct ( 0o7436))"
   ]
  },
  {
   "cell_type": "code",
   "execution_count": 98,
   "id": "c0d812a9",
   "metadata": {},
   "outputs": [
    {
     "name": "stdout",
     "output_type": "stream",
     "text": [
      "0x50\n"
     ]
    }
   ],
   "source": [
    "print ( hex ( 0b1010000))"
   ]
  },
  {
   "cell_type": "code",
   "execution_count": 99,
   "id": "bdf4b5cb",
   "metadata": {},
   "outputs": [
    {
     "name": "stdout",
     "output_type": "stream",
     "text": [
      "0xfade\n"
     ]
    }
   ],
   "source": [
    "print ( hex ( 0xfade ))"
   ]
  },
  {
   "cell_type": "code",
   "execution_count": null,
   "id": "c3c3e084",
   "metadata": {},
   "outputs": [],
   "source": []
  }
 ],
 "metadata": {
  "kernelspec": {
   "display_name": "Python 3 (ipykernel)",
   "language": "python",
   "name": "python3"
  },
  "language_info": {
   "codemirror_mode": {
    "name": "ipython",
    "version": 3
   },
   "file_extension": ".py",
   "mimetype": "text/x-python",
   "name": "python",
   "nbconvert_exporter": "python",
   "pygments_lexer": "ipython3",
   "version": "3.9.13"
  }
 },
 "nbformat": 4,
 "nbformat_minor": 5
}
