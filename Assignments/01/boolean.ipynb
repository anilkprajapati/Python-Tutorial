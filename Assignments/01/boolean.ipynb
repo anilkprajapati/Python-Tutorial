{
 "cells": [
  {
   "cell_type": "markdown",
   "id": "e834fb5b",
   "metadata": {},
   "source": [
    "# Anil Kumar"
   ]
  },
  {
   "cell_type": "markdown",
   "id": "f2dd0f6d",
   "metadata": {},
   "source": [
    "Q. Declare a boolean value and store it in a variable.  \n",
    "Check the type and print the id of the same."
   ]
  },
  {
   "cell_type": "code",
   "execution_count": 68,
   "id": "7ab6b304",
   "metadata": {},
   "outputs": [
    {
     "name": "stdout",
     "output_type": "stream",
     "text": [
      "<class 'bool'>\n"
     ]
    },
    {
     "data": {
      "text/plain": [
       "140722340952168"
      ]
     },
     "execution_count": 68,
     "metadata": {},
     "output_type": "execute_result"
    }
   ],
   "source": [
    "a=True\n",
    "print(type(a))\n",
    "id(a)"
   ]
  },
  {
   "cell_type": "markdown",
   "id": "94d71bae",
   "metadata": {},
   "source": [
    "Q. Take one boolean value between 0 - 256.  \n",
    "Assign it to two different variables.  \n",
    "Check the id of both the variables. It should come the same. Check why?"
   ]
  },
  {
   "cell_type": "code",
   "execution_count": 69,
   "id": "88d8a6cd",
   "metadata": {},
   "outputs": [
    {
     "name": "stdout",
     "output_type": "stream",
     "text": [
      "140722340952168\n",
      "140722340952168\n"
     ]
    }
   ],
   "source": [
    "a=bool(1)\n",
    "print(id(a))\n",
    "b=bool(1)\n",
    "print(id(b))"
   ]
  },
  {
   "cell_type": "code",
   "execution_count": 70,
   "id": "b4f1548d",
   "metadata": {},
   "outputs": [],
   "source": [
    "# Id of both is same because boolean have only two values and storing them is easy"
   ]
  },
  {
   "cell_type": "code",
   "execution_count": null,
   "id": "23b53cb9",
   "metadata": {},
   "outputs": [],
   "source": []
  },
  {
   "cell_type": "markdown",
   "id": "fcba6ba6",
   "metadata": {},
   "source": [
    "Q. Arithmetic Operations on boolean \n",
    "Take two different Boolean values.  \n",
    "Store them in two different variables.  \n",
    "Do below operations on them:-  \n",
    "Find sum of both numbers  \n",
    "Find difference between them  \n",
    "Find the product of both numbers.  \n",
    "Find value after dividing first num with second number  \n",
    "Find the remainder after dividing first number with second number  \n",
    "Find the quotient after dividing first number with second number  \n",
    "Find the result of the first num to the power of the second number.  "
   ]
  },
  {
   "cell_type": "code",
   "execution_count": 71,
   "id": "bb26fbd9",
   "metadata": {},
   "outputs": [],
   "source": [
    "# Assign variable\n",
    "a=False\n",
    "b=True"
   ]
  },
  {
   "cell_type": "code",
   "execution_count": 72,
   "id": "e919975d",
   "metadata": {},
   "outputs": [
    {
     "name": "stdout",
     "output_type": "stream",
     "text": [
      "sum of False and True is 1\n"
     ]
    }
   ],
   "source": [
    "# Sum\n",
    "c=a+b\n",
    "print(f\"sum of {a} and {b} is {c}\")\n"
   ]
  },
  {
   "cell_type": "code",
   "execution_count": 73,
   "id": "9e121078",
   "metadata": {
    "scrolled": true
   },
   "outputs": [
    {
     "name": "stdout",
     "output_type": "stream",
     "text": [
      "Difference of False and True is -1\n"
     ]
    }
   ],
   "source": [
    "# Diff\n",
    "c=a-b\n",
    "print(f\"Difference of {a} and {b} is {c}\")"
   ]
  },
  {
   "cell_type": "code",
   "execution_count": 74,
   "id": "b68deaed",
   "metadata": {},
   "outputs": [
    {
     "name": "stdout",
     "output_type": "stream",
     "text": [
      "Product of False and True is 0\n"
     ]
    }
   ],
   "source": [
    "# Product\n",
    "c=a*b\n",
    "print(f\"Product of {a} and {b} is {c}\")"
   ]
  },
  {
   "cell_type": "code",
   "execution_count": 75,
   "id": "a2ba4e00",
   "metadata": {},
   "outputs": [
    {
     "name": "stdout",
     "output_type": "stream",
     "text": [
      "Division of False by True is 0.00\n"
     ]
    }
   ],
   "source": [
    "#Division\n",
    "c=a/b\n",
    "print(f\"Division of {a} by {b} is {c:.2f}\")"
   ]
  },
  {
   "cell_type": "code",
   "execution_count": 76,
   "id": "692bc787",
   "metadata": {},
   "outputs": [
    {
     "name": "stdout",
     "output_type": "stream",
     "text": [
      "Remainder of False/True is 0\n"
     ]
    }
   ],
   "source": [
    "# Remainder\n",
    "c=a%b\n",
    "print(f\"Remainder of {a}/{b} is {c}\")"
   ]
  },
  {
   "cell_type": "code",
   "execution_count": 77,
   "id": "a0a9b00f",
   "metadata": {},
   "outputs": [
    {
     "name": "stdout",
     "output_type": "stream",
     "text": [
      "Quotient of False/True is 0\n"
     ]
    }
   ],
   "source": [
    "# Quotient\n",
    "c=a//b\n",
    "print(f\"Quotient of {a}/{b} is {c}\")"
   ]
  },
  {
   "cell_type": "code",
   "execution_count": 78,
   "id": "8d5c481b",
   "metadata": {},
   "outputs": [
    {
     "name": "stdout",
     "output_type": "stream",
     "text": [
      "False^True is 0\n"
     ]
    }
   ],
   "source": [
    "# Power\n",
    "c=a**b\n",
    "print(f\"{a}^{b} is {c}\")"
   ]
  },
  {
   "cell_type": "code",
   "execution_count": null,
   "id": "d297d090",
   "metadata": {},
   "outputs": [],
   "source": []
  },
  {
   "cell_type": "markdown",
   "id": "c4b0f90d",
   "metadata": {},
   "source": [
    "Q. Comparison Operators on integers  \n",
    "Take two different integer values.  \n",
    "Store them in two different variables.  \n",
    "Do below operations on them:-  \n",
    "Compare se two numbers with below operator:-  \n",
    "Greater than, '>'  \n",
    "Smaller than, '<'  \n",
    "Greater than or equal to, '>='  \n",
    "Less than or equal to, '<='  \n",
    "Observe their output(return type should be boolean)  "
   ]
  },
  {
   "cell_type": "code",
   "execution_count": 79,
   "id": "10a3125a",
   "metadata": {},
   "outputs": [],
   "source": [
    "# Assign variable\n",
    "a=False\n",
    "b=True"
   ]
  },
  {
   "cell_type": "code",
   "execution_count": 80,
   "id": "17158b83",
   "metadata": {},
   "outputs": [
    {
     "data": {
      "text/plain": [
       "False"
      ]
     },
     "execution_count": 80,
     "metadata": {},
     "output_type": "execute_result"
    }
   ],
   "source": [
    "a>b"
   ]
  },
  {
   "cell_type": "code",
   "execution_count": 81,
   "id": "388dd7ed",
   "metadata": {},
   "outputs": [
    {
     "data": {
      "text/plain": [
       "True"
      ]
     },
     "execution_count": 81,
     "metadata": {},
     "output_type": "execute_result"
    }
   ],
   "source": [
    "a<b"
   ]
  },
  {
   "cell_type": "code",
   "execution_count": 82,
   "id": "e6a4f225",
   "metadata": {},
   "outputs": [
    {
     "data": {
      "text/plain": [
       "False"
      ]
     },
     "execution_count": 82,
     "metadata": {},
     "output_type": "execute_result"
    }
   ],
   "source": [
    "a>=b"
   ]
  },
  {
   "cell_type": "code",
   "execution_count": 83,
   "id": "3d93d7da",
   "metadata": {
    "scrolled": true
   },
   "outputs": [
    {
     "data": {
      "text/plain": [
       "True"
      ]
     },
     "execution_count": 83,
     "metadata": {},
     "output_type": "execute_result"
    }
   ],
   "source": [
    "a<=b"
   ]
  },
  {
   "cell_type": "markdown",
   "id": "9ee3b286",
   "metadata": {},
   "source": [
    "Q. Equality Operator\n",
    "Take two different integer values.\n",
    "Store them in two different variables.\n",
    "Equate them using equality operators (==, !=)\n",
    "Observe the output(return type should be boolean)"
   ]
  },
  {
   "cell_type": "code",
   "execution_count": 84,
   "id": "a728204e",
   "metadata": {},
   "outputs": [],
   "source": [
    "# Assign variable\n",
    "a=False\n",
    "b=True"
   ]
  },
  {
   "cell_type": "code",
   "execution_count": 85,
   "id": "1d3d2380",
   "metadata": {},
   "outputs": [
    {
     "data": {
      "text/plain": [
       "False"
      ]
     },
     "execution_count": 85,
     "metadata": {},
     "output_type": "execute_result"
    }
   ],
   "source": [
    "a==b"
   ]
  },
  {
   "cell_type": "code",
   "execution_count": 86,
   "id": "b9342200",
   "metadata": {},
   "outputs": [
    {
     "data": {
      "text/plain": [
       "True"
      ]
     },
     "execution_count": 86,
     "metadata": {},
     "output_type": "execute_result"
    }
   ],
   "source": [
    "a!=b"
   ]
  },
  {
   "cell_type": "code",
   "execution_count": null,
   "id": "bfda9e01",
   "metadata": {},
   "outputs": [],
   "source": []
  },
  {
   "cell_type": "code",
   "execution_count": null,
   "id": "0c4e2c2c",
   "metadata": {},
   "outputs": [],
   "source": []
  },
  {
   "cell_type": "markdown",
   "id": "c65a5168",
   "metadata": {},
   "source": [
    "Q. Logical operators  \n",
    "Observe the output of below code  \n",
    "Cross check the output manually  "
   ]
  },
  {
   "cell_type": "code",
   "execution_count": 87,
   "id": "836feaf0",
   "metadata": {},
   "outputs": [
    {
     "name": "stdout",
     "output_type": "stream",
     "text": [
      "True\n"
     ]
    }
   ],
   "source": [
    "print ( True and True )"
   ]
  },
  {
   "cell_type": "code",
   "execution_count": 88,
   "id": "c0465dbd",
   "metadata": {},
   "outputs": [
    {
     "name": "stdout",
     "output_type": "stream",
     "text": [
      "False\n"
     ]
    }
   ],
   "source": [
    "print ( False and True )"
   ]
  },
  {
   "cell_type": "code",
   "execution_count": 89,
   "id": "07bb09a7",
   "metadata": {},
   "outputs": [
    {
     "name": "stdout",
     "output_type": "stream",
     "text": [
      "False\n"
     ]
    }
   ],
   "source": [
    "print ( True and False )"
   ]
  },
  {
   "cell_type": "code",
   "execution_count": 90,
   "id": "176d9f88",
   "metadata": {},
   "outputs": [
    {
     "name": "stdout",
     "output_type": "stream",
     "text": [
      "False\n"
     ]
    }
   ],
   "source": [
    "print ( False and False )"
   ]
  },
  {
   "cell_type": "code",
   "execution_count": 91,
   "id": "c19f3ce2",
   "metadata": {},
   "outputs": [
    {
     "name": "stdout",
     "output_type": "stream",
     "text": [
      "True\n"
     ]
    }
   ],
   "source": [
    "print ( True or True )"
   ]
  },
  {
   "cell_type": "code",
   "execution_count": 92,
   "id": "067ddb32",
   "metadata": {},
   "outputs": [
    {
     "name": "stdout",
     "output_type": "stream",
     "text": [
      "True\n"
     ]
    }
   ],
   "source": [
    "print ( False or True )"
   ]
  },
  {
   "cell_type": "code",
   "execution_count": 93,
   "id": "3cdf0896",
   "metadata": {},
   "outputs": [
    {
     "name": "stdout",
     "output_type": "stream",
     "text": [
      "True\n"
     ]
    }
   ],
   "source": [
    "print ( True or False )"
   ]
  },
  {
   "cell_type": "code",
   "execution_count": 94,
   "id": "46dedfa1",
   "metadata": {},
   "outputs": [
    {
     "name": "stdout",
     "output_type": "stream",
     "text": [
      "False\n"
     ]
    }
   ],
   "source": [
    "print ( False or False )"
   ]
  },
  {
   "cell_type": "code",
   "execution_count": 95,
   "id": "1f7f0604",
   "metadata": {},
   "outputs": [
    {
     "name": "stdout",
     "output_type": "stream",
     "text": [
      "False\n"
     ]
    }
   ],
   "source": [
    "print ( not True )"
   ]
  },
  {
   "cell_type": "code",
   "execution_count": 96,
   "id": "e6b1aadc",
   "metadata": {},
   "outputs": [
    {
     "name": "stdout",
     "output_type": "stream",
     "text": [
      "True\n"
     ]
    }
   ],
   "source": [
    "print ( not False )"
   ]
  },
  {
   "cell_type": "code",
   "execution_count": null,
   "id": "6ffbc695",
   "metadata": {},
   "outputs": [],
   "source": []
  },
  {
   "cell_type": "markdown",
   "id": "74793de0",
   "metadata": {},
   "source": [
    "Q. Bitwise Operators\n",
    "Do below operations on the values provided below:-"
   ]
  },
  {
   "cell_type": "code",
   "execution_count": 97,
   "id": "2032afcc",
   "metadata": {},
   "outputs": [],
   "source": [
    "a=True\n",
    "b=False"
   ]
  },
  {
   "cell_type": "code",
   "execution_count": 98,
   "id": "5f44da02",
   "metadata": {},
   "outputs": [
    {
     "data": {
      "text/plain": [
       "True"
      ]
     },
     "execution_count": 98,
     "metadata": {},
     "output_type": "execute_result"
    }
   ],
   "source": [
    "a&a"
   ]
  },
  {
   "cell_type": "code",
   "execution_count": 99,
   "id": "a9d00f3b",
   "metadata": {},
   "outputs": [
    {
     "data": {
      "text/plain": [
       "True"
      ]
     },
     "execution_count": 99,
     "metadata": {},
     "output_type": "execute_result"
    }
   ],
   "source": [
    "a|b"
   ]
  },
  {
   "cell_type": "code",
   "execution_count": 100,
   "id": "6f4e6eeb",
   "metadata": {},
   "outputs": [
    {
     "data": {
      "text/plain": [
       "True"
      ]
     },
     "execution_count": 100,
     "metadata": {},
     "output_type": "execute_result"
    }
   ],
   "source": [
    "a^b"
   ]
  },
  {
   "cell_type": "code",
   "execution_count": null,
   "id": "0153f72b",
   "metadata": {},
   "outputs": [],
   "source": []
  },
  {
   "cell_type": "code",
   "execution_count": 101,
   "id": "4af0f7b4",
   "metadata": {},
   "outputs": [
    {
     "data": {
      "text/plain": [
       "-2"
      ]
     },
     "execution_count": 101,
     "metadata": {},
     "output_type": "execute_result"
    }
   ],
   "source": [
    "~a"
   ]
  },
  {
   "cell_type": "code",
   "execution_count": 102,
   "id": "5bf456bd",
   "metadata": {},
   "outputs": [
    {
     "data": {
      "text/plain": [
       "4"
      ]
     },
     "execution_count": 102,
     "metadata": {},
     "output_type": "execute_result"
    }
   ],
   "source": [
    "a<<2"
   ]
  },
  {
   "cell_type": "code",
   "execution_count": 103,
   "id": "79c10779",
   "metadata": {},
   "outputs": [
    {
     "data": {
      "text/plain": [
       "0"
      ]
     },
     "execution_count": 103,
     "metadata": {},
     "output_type": "execute_result"
    }
   ],
   "source": [
    "a>>2"
   ]
  },
  {
   "cell_type": "markdown",
   "id": "8439c25f",
   "metadata": {},
   "source": [
    "Q. What is the output of expression inside the print statement. \n",
    "Cross\n",
    "check before running the program."
   ]
  },
  {
   "cell_type": "code",
   "execution_count": 104,
   "id": "bf8e6295",
   "metadata": {},
   "outputs": [
    {
     "name": "stdout",
     "output_type": "stream",
     "text": [
      "True\n"
     ]
    }
   ],
   "source": [
    "a = True\n",
    "b = True\n",
    "print (a is b)"
   ]
  },
  {
   "cell_type": "code",
   "execution_count": 105,
   "id": "b95f12a3",
   "metadata": {},
   "outputs": [
    {
     "name": "stdout",
     "output_type": "stream",
     "text": [
      "False\n"
     ]
    }
   ],
   "source": [
    "print (a is not b)"
   ]
  },
  {
   "cell_type": "code",
   "execution_count": 106,
   "id": "fef0ef5c",
   "metadata": {},
   "outputs": [
    {
     "name": "stdout",
     "output_type": "stream",
     "text": [
      "True\n"
     ]
    }
   ],
   "source": [
    "a = False\n",
    "b = False\n",
    "print (a is b)"
   ]
  },
  {
   "cell_type": "code",
   "execution_count": 107,
   "id": "f2a826d8",
   "metadata": {},
   "outputs": [
    {
     "name": "stdout",
     "output_type": "stream",
     "text": [
      "False\n"
     ]
    }
   ],
   "source": [
    "print (a is not b)"
   ]
  },
  {
   "cell_type": "markdown",
   "id": "7dcf616f",
   "metadata": {},
   "source": [
    "Q. Membership operation\n",
    "in, not in are two membership operators and it returns boolean value"
   ]
  },
  {
   "cell_type": "code",
   "execution_count": 108,
   "id": "1a9aa5e6",
   "metadata": {},
   "outputs": [
    {
     "name": "stdout",
     "output_type": "stream",
     "text": [
      "True\n",
      "True\n",
      "True\n",
      "True\n",
      "True\n"
     ]
    }
   ],
   "source": [
    "print ( True in [ 10 , 10.20 , 10 + 20j , 'Python' , True ])\n",
    "print ( False in ( 10 , 10.20 , 10 + 20j , 'Python' , False ))\n",
    "print ( True in { 1 , 2 , 3 , True })\n",
    "print ( True in { True : 100 , False : 200 , True : 300 })\n",
    "print ( False in { True : 100 , False : 200 , True : 300 })"
   ]
  }
 ],
 "metadata": {
  "kernelspec": {
   "display_name": "Python 3 (ipykernel)",
   "language": "python",
   "name": "python3"
  },
  "language_info": {
   "codemirror_mode": {
    "name": "ipython",
    "version": 3
   },
   "file_extension": ".py",
   "mimetype": "text/x-python",
   "name": "python",
   "nbconvert_exporter": "python",
   "pygments_lexer": "ipython3",
   "version": "3.9.13"
  }
 },
 "nbformat": 4,
 "nbformat_minor": 5
}
