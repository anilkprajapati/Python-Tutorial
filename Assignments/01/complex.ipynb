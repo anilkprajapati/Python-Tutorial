{
 "cells": [
  {
   "cell_type": "markdown",
   "id": "ff8bf70c",
   "metadata": {},
   "source": [
    "# Anil Kumar"
   ]
  },
  {
   "cell_type": "markdown",
   "id": "48d98f03",
   "metadata": {},
   "source": [
    "Q. Declare a complex number and store it in a variable.\n",
    "Check the type and print the id of the same."
   ]
  },
  {
   "cell_type": "code",
   "execution_count": 2,
   "id": "8524729d",
   "metadata": {},
   "outputs": [
    {
     "name": "stdout",
     "output_type": "stream",
     "text": [
      "<class 'complex'>\n"
     ]
    }
   ],
   "source": [
    "a=3+2j\n",
    "print(type(a))"
   ]
  },
  {
   "cell_type": "markdown",
   "id": "3f99c67c",
   "metadata": {},
   "source": [
    "Q. Arithmetic Operations on complex number  \n",
    "Take two different complex numbers.  \n",
    "Store them in two different variables.  \n",
    "Do below operations on them:-  \n",
    "Find sum of both numbers  \n",
    "Find difference between them  \n",
    "Find the product of both numbers.  \n",
    "Find value after dividing first num with second number  \n",
    "Find the result of the first num to the power of the second number.  "
   ]
  },
  {
   "cell_type": "code",
   "execution_count": 3,
   "id": "1930f69b",
   "metadata": {},
   "outputs": [],
   "source": [
    "a=3+2j\n",
    "b=1+1j"
   ]
  },
  {
   "cell_type": "code",
   "execution_count": 4,
   "id": "45817376",
   "metadata": {},
   "outputs": [
    {
     "name": "stdout",
     "output_type": "stream",
     "text": [
      "(4+3j)\n"
     ]
    }
   ],
   "source": [
    "c=a+b\n",
    "print(c)"
   ]
  },
  {
   "cell_type": "code",
   "execution_count": 6,
   "id": "ae4b63fb",
   "metadata": {},
   "outputs": [
    {
     "name": "stdout",
     "output_type": "stream",
     "text": [
      "(2+1j)\n"
     ]
    }
   ],
   "source": [
    "d=a-b\n",
    "print(d)"
   ]
  },
  {
   "cell_type": "code",
   "execution_count": 7,
   "id": "e5179eef",
   "metadata": {},
   "outputs": [
    {
     "name": "stdout",
     "output_type": "stream",
     "text": [
      "(1+5j)\n"
     ]
    }
   ],
   "source": [
    "e=a*b\n",
    "print(e)"
   ]
  },
  {
   "cell_type": "code",
   "execution_count": 8,
   "id": "8d768d10",
   "metadata": {},
   "outputs": [
    {
     "name": "stdout",
     "output_type": "stream",
     "text": [
      "(2.5-0.5j)\n"
     ]
    }
   ],
   "source": [
    "f=a/b\n",
    "print(f)"
   ]
  },
  {
   "cell_type": "code",
   "execution_count": 9,
   "id": "a06083d8",
   "metadata": {},
   "outputs": [
    {
     "name": "stdout",
     "output_type": "stream",
     "text": [
      "(-0.5912135705333044+1.913394817119845j)\n"
     ]
    }
   ],
   "source": [
    "g=a**b\n",
    "print(g)"
   ]
  },
  {
   "cell_type": "markdown",
   "id": "f88d94f2",
   "metadata": {},
   "source": [
    "Q. Comparison Operation not applicable between instance of complex\n",
    "values.  \n",
    "Object reusability concept is not applicable on complex number"
   ]
  },
  {
   "cell_type": "code",
   "execution_count": 11,
   "id": "26542c7f",
   "metadata": {},
   "outputs": [],
   "source": [
    "a=3+2j\n",
    "b=1+1j\n",
    "# a>b"
   ]
  },
  {
   "cell_type": "markdown",
   "id": "3ca1a6c6",
   "metadata": {},
   "source": [
    "Q. Equality Operator  \n",
    "Take two different complex numbers.  \n",
    "Store them in two different variables.  \n",
    "Equate them using equality operators (==, !=)  \n",
    "Observe the output(return type should be boolean)  "
   ]
  },
  {
   "cell_type": "code",
   "execution_count": null,
   "id": "601f8b04",
   "metadata": {},
   "outputs": [],
   "source": [
    "a=3+2j\n",
    "b=1+1j"
   ]
  },
  {
   "cell_type": "code",
   "execution_count": 12,
   "id": "c2fc3f45",
   "metadata": {},
   "outputs": [
    {
     "data": {
      "text/plain": [
       "False"
      ]
     },
     "execution_count": 12,
     "metadata": {},
     "output_type": "execute_result"
    }
   ],
   "source": [
    "a==b"
   ]
  },
  {
   "cell_type": "code",
   "execution_count": 13,
   "id": "413e1dbe",
   "metadata": {},
   "outputs": [
    {
     "data": {
      "text/plain": [
       "True"
      ]
     },
     "execution_count": 13,
     "metadata": {},
     "output_type": "execute_result"
    }
   ],
   "source": [
    "a!=b"
   ]
  },
  {
   "cell_type": "markdown",
   "id": "b9412634",
   "metadata": {},
   "source": [
    "Q. Logical operators  \n",
    "Observe the output of below code  \n",
    "Cross check the output manually"
   ]
  },
  {
   "cell_type": "code",
   "execution_count": 14,
   "id": "1a9e1d42",
   "metadata": {},
   "outputs": [
    {
     "name": "stdout",
     "output_type": "stream",
     "text": [
      "(20+30j)\n"
     ]
    }
   ],
   "source": [
    "print ( 10 + 20j and 20 + 30j )"
   ]
  },
  {
   "cell_type": "code",
   "execution_count": 15,
   "id": "0aaf5eb5",
   "metadata": {},
   "outputs": [
    {
     "name": "stdout",
     "output_type": "stream",
     "text": [
      "0j\n"
     ]
    }
   ],
   "source": [
    "print ( 0 + 0j and 20 + 30j )"
   ]
  },
  {
   "cell_type": "code",
   "execution_count": 16,
   "id": "39193f26",
   "metadata": {},
   "outputs": [
    {
     "name": "stdout",
     "output_type": "stream",
     "text": [
      "0j\n"
     ]
    }
   ],
   "source": [
    "print ( 20 + 30j and 0 + 0j )"
   ]
  },
  {
   "cell_type": "code",
   "execution_count": 17,
   "id": "cc01c542",
   "metadata": {},
   "outputs": [
    {
     "name": "stdout",
     "output_type": "stream",
     "text": [
      "0j\n"
     ]
    }
   ],
   "source": [
    "print ( 0 + 0j and 0 + 0j )"
   ]
  },
  {
   "cell_type": "code",
   "execution_count": 19,
   "id": "aba674d1",
   "metadata": {},
   "outputs": [
    {
     "name": "stdout",
     "output_type": "stream",
     "text": [
      "(10+20j)\n"
     ]
    }
   ],
   "source": [
    "print ( 10 + 20j or 20 + 30j )"
   ]
  },
  {
   "cell_type": "code",
   "execution_count": 20,
   "id": "21e8e57b",
   "metadata": {},
   "outputs": [
    {
     "name": "stdout",
     "output_type": "stream",
     "text": [
      "(20+30j)\n"
     ]
    }
   ],
   "source": [
    "print ( 0 + 0j or 20 + 30j )"
   ]
  },
  {
   "cell_type": "code",
   "execution_count": 21,
   "id": "f47c7f85",
   "metadata": {},
   "outputs": [
    {
     "name": "stdout",
     "output_type": "stream",
     "text": [
      "(20+30j)\n"
     ]
    }
   ],
   "source": [
    "print ( 20 + 30j or 0 + 0j )"
   ]
  },
  {
   "cell_type": "code",
   "execution_count": 22,
   "id": "bd17810a",
   "metadata": {},
   "outputs": [
    {
     "name": "stdout",
     "output_type": "stream",
     "text": [
      "0j\n"
     ]
    }
   ],
   "source": [
    "print ( 0 + 0j or 0 + 0j )"
   ]
  },
  {
   "cell_type": "code",
   "execution_count": 23,
   "id": "2e91c411",
   "metadata": {},
   "outputs": [
    {
     "name": "stdout",
     "output_type": "stream",
     "text": [
      "False\n"
     ]
    }
   ],
   "source": [
    "print ( not 10 + 20j )"
   ]
  },
  {
   "cell_type": "code",
   "execution_count": 24,
   "id": "9a3213df",
   "metadata": {},
   "outputs": [
    {
     "name": "stdout",
     "output_type": "stream",
     "text": [
      "True\n"
     ]
    }
   ],
   "source": [
    "print ( not 0 + 0j )"
   ]
  },
  {
   "cell_type": "markdown",
   "id": "7a023ad1",
   "metadata": {},
   "source": [
    "Q. What is the output of the expression inside the print statement.\n",
    "Cross check before running the program."
   ]
  },
  {
   "cell_type": "code",
   "execution_count": 25,
   "id": "91c9a7c1",
   "metadata": {},
   "outputs": [
    {
     "name": "stdout",
     "output_type": "stream",
     "text": [
      "False\n",
      "True\n"
     ]
    }
   ],
   "source": [
    "a = 10 + 20j\n",
    "b = 10 + 20j\n",
    "print (a is b) #False #True or False?\n",
    "print (a is not b)"
   ]
  },
  {
   "cell_type": "markdown",
   "id": "5cd0b67f",
   "metadata": {},
   "source": [
    "Q. Membership operation\n",
    "in, not in are two membership operators and it returns boolean value"
   ]
  },
  {
   "cell_type": "code",
   "execution_count": 26,
   "id": "b62791c7",
   "metadata": {},
   "outputs": [
    {
     "name": "stdout",
     "output_type": "stream",
     "text": [
      "True\n",
      "True\n",
      "True\n",
      "True\n",
      "True\n",
      "True\n"
     ]
    }
   ],
   "source": [
    "print ( '2.7' in 'Python2.7.8' ) #True\n",
    "print ( 10 + 20j in [ 10 , 10.20 , 10 + 20j , 'Python' ]) #True\n",
    "print ( 10 + 20j in ( 10 , 10.20 , 10 + 20j , 'Python' )) #True\n",
    "print ( 30 + 40j in { 1 , 20.30 , 30 + 40j }) #True\n",
    "print ( 30 + 40j in { 1 : 100 , 2.3 : 200 , 30 + 40j : 300 }) #True\n",
    "print ( 10 in range ( 20 )) #True"
   ]
  },
  {
   "cell_type": "code",
   "execution_count": null,
   "id": "1aa5232c",
   "metadata": {},
   "outputs": [],
   "source": []
  },
  {
   "cell_type": "code",
   "execution_count": null,
   "id": "396426ad",
   "metadata": {},
   "outputs": [],
   "source": []
  },
  {
   "cell_type": "code",
   "execution_count": null,
   "id": "b6168ab4",
   "metadata": {},
   "outputs": [],
   "source": []
  },
  {
   "cell_type": "code",
   "execution_count": null,
   "id": "f73eb71d",
   "metadata": {},
   "outputs": [],
   "source": []
  },
  {
   "cell_type": "code",
   "execution_count": null,
   "id": "fdc2ad4d",
   "metadata": {},
   "outputs": [],
   "source": []
  },
  {
   "cell_type": "code",
   "execution_count": null,
   "id": "f62f6324",
   "metadata": {},
   "outputs": [],
   "source": []
  },
  {
   "cell_type": "code",
   "execution_count": null,
   "id": "30f75f27",
   "metadata": {},
   "outputs": [],
   "source": []
  },
  {
   "cell_type": "code",
   "execution_count": null,
   "id": "26f0091c",
   "metadata": {},
   "outputs": [],
   "source": []
  },
  {
   "cell_type": "code",
   "execution_count": null,
   "id": "9d3d7173",
   "metadata": {},
   "outputs": [],
   "source": []
  },
  {
   "cell_type": "code",
   "execution_count": null,
   "id": "4f7f0db3",
   "metadata": {},
   "outputs": [],
   "source": []
  }
 ],
 "metadata": {
  "kernelspec": {
   "display_name": "Python 3 (ipykernel)",
   "language": "python",
   "name": "python3"
  },
  "language_info": {
   "codemirror_mode": {
    "name": "ipython",
    "version": 3
   },
   "file_extension": ".py",
   "mimetype": "text/x-python",
   "name": "python",
   "nbconvert_exporter": "python",
   "pygments_lexer": "ipython3",
   "version": "3.9.13"
  }
 },
 "nbformat": 4,
 "nbformat_minor": 5
}
